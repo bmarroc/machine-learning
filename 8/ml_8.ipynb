{
 "cells": [
  {
   "cell_type": "markdown",
   "metadata": {},
   "source": [
    "# Regularized Logistic Regression"
   ]
  },
  {
   "cell_type": "code",
   "execution_count": 1,
   "metadata": {},
   "outputs": [],
   "source": [
    "import numpy as np\n",
    "import pandas as pd\n",
    "import matplotlib.pyplot as plt\n",
    "from sklearn.utils import shuffle\n",
    "from sklearn.linear_model import LogisticRegression\n",
    "from sklearn.preprocessing import PolynomialFeatures\n",
    "from sklearn.pipeline import Pipeline\n",
    "from sklearn.metrics import log_loss \n",
    "from sklearn.metrics import accuracy_score "
   ]
  },
  {
   "cell_type": "code",
   "execution_count": 2,
   "metadata": {},
   "outputs": [
    {
     "data": {
      "text/html": [
       "<div>\n",
       "<style scoped>\n",
       "    .dataframe tbody tr th:only-of-type {\n",
       "        vertical-align: middle;\n",
       "    }\n",
       "\n",
       "    .dataframe tbody tr th {\n",
       "        vertical-align: top;\n",
       "    }\n",
       "\n",
       "    .dataframe thead th {\n",
       "        text-align: right;\n",
       "    }\n",
       "</style>\n",
       "<table border=\"1\" class=\"dataframe\">\n",
       "  <thead>\n",
       "    <tr style=\"text-align: right;\">\n",
       "      <th></th>\n",
       "      <th>microchip_test1</th>\n",
       "      <th>microchip_test2</th>\n",
       "      <th>accepted</th>\n",
       "    </tr>\n",
       "  </thead>\n",
       "  <tbody>\n",
       "    <tr>\n",
       "      <td>0</td>\n",
       "      <td>0.63882</td>\n",
       "      <td>-0.24342</td>\n",
       "      <td>1.0</td>\n",
       "    </tr>\n",
       "    <tr>\n",
       "      <td>1</td>\n",
       "      <td>-0.06394</td>\n",
       "      <td>-0.18494</td>\n",
       "      <td>1.0</td>\n",
       "    </tr>\n",
       "    <tr>\n",
       "      <td>2</td>\n",
       "      <td>0.85196</td>\n",
       "      <td>-0.36769</td>\n",
       "      <td>0.0</td>\n",
       "    </tr>\n",
       "    <tr>\n",
       "      <td>3</td>\n",
       "      <td>-0.59965</td>\n",
       "      <td>-0.41886</td>\n",
       "      <td>0.0</td>\n",
       "    </tr>\n",
       "    <tr>\n",
       "      <td>4</td>\n",
       "      <td>-0.83007</td>\n",
       "      <td>0.31213</td>\n",
       "      <td>0.0</td>\n",
       "    </tr>\n",
       "    <tr>\n",
       "      <td>...</td>\n",
       "      <td>...</td>\n",
       "      <td>...</td>\n",
       "      <td>...</td>\n",
       "    </tr>\n",
       "    <tr>\n",
       "      <td>113</td>\n",
       "      <td>-0.60541</td>\n",
       "      <td>0.59722</td>\n",
       "      <td>1.0</td>\n",
       "    </tr>\n",
       "    <tr>\n",
       "      <td>114</td>\n",
       "      <td>-0.66302</td>\n",
       "      <td>-0.21418</td>\n",
       "      <td>0.0</td>\n",
       "    </tr>\n",
       "    <tr>\n",
       "      <td>115</td>\n",
       "      <td>0.67339</td>\n",
       "      <td>0.64108</td>\n",
       "      <td>0.0</td>\n",
       "    </tr>\n",
       "    <tr>\n",
       "      <td>116</td>\n",
       "      <td>0.10311</td>\n",
       "      <td>0.77997</td>\n",
       "      <td>0.0</td>\n",
       "    </tr>\n",
       "    <tr>\n",
       "      <td>117</td>\n",
       "      <td>0.72523</td>\n",
       "      <td>0.44371</td>\n",
       "      <td>1.0</td>\n",
       "    </tr>\n",
       "  </tbody>\n",
       "</table>\n",
       "<p>118 rows × 3 columns</p>\n",
       "</div>"
      ],
      "text/plain": [
       "     microchip_test1  microchip_test2  accepted\n",
       "0            0.63882         -0.24342       1.0\n",
       "1           -0.06394         -0.18494       1.0\n",
       "2            0.85196         -0.36769       0.0\n",
       "3           -0.59965         -0.41886       0.0\n",
       "4           -0.83007          0.31213       0.0\n",
       "..               ...              ...       ...\n",
       "113         -0.60541          0.59722       1.0\n",
       "114         -0.66302         -0.21418       0.0\n",
       "115          0.67339          0.64108       0.0\n",
       "116          0.10311          0.77997       0.0\n",
       "117          0.72523          0.44371       1.0\n",
       "\n",
       "[118 rows x 3 columns]"
      ]
     },
     "execution_count": 2,
     "metadata": {},
     "output_type": "execute_result"
    }
   ],
   "source": [
    "data = pd.read_table('ex2data2.txt', sep=',', header=None, names=['microchip_test1', 'microchip_test2', 'accepted'], dtype=np.float32)\n",
    "data = shuffle(data).reset_index(drop=True)\n",
    "data"
   ]
  },
  {
   "cell_type": "code",
   "execution_count": 3,
   "metadata": {},
   "outputs": [],
   "source": [
    "X_train = data.loc[:95,['microchip_test1', 'microchip_test2']].values\n",
    "Y_train = data.loc[:95,['accepted']].values\n",
    "\n",
    "X_test = data.loc[95:,['microchip_test1', 'microchip_test2']].values\n",
    "Y_test = data.loc[95:,['accepted']].values"
   ]
  },
  {
   "cell_type": "code",
   "execution_count": 4,
   "metadata": {},
   "outputs": [
    {
     "data": {
      "text/plain": [
       "<matplotlib.legend.Legend at 0x7f98c85c8828>"
      ]
     },
     "execution_count": 4,
     "metadata": {},
     "output_type": "execute_result"
    },
    {
     "data": {
      "image/png": "[encoded data removed]",
      "text/plain": [
       "<Figure size 720x720 with 1 Axes>"
      ]
     },
     "metadata": {
      "needs_background": "light"
     },
     "output_type": "display_data"
    }
   ],
   "source": [
    "fig = plt.figure(figsize=(10, 10))\n",
    "ax = fig.add_subplot(1, 1, 1)\n",
    "ax.axis([np.min(X_train[:,0])-0.1, np.max(X_train[:,0])+0.1, np.min(X_train[:,1])-0.1, np.max(X_train[:,1])+0.1])\n",
    "ax.set_xlabel('Microchip Test 1')\n",
    "ax.set_ylabel('Microchip Test 2')\n",
    "pos = np.where(Y_train[:,0] == 1)[0]\n",
    "neg = np.where(Y_train[:,0] == 0)[0]\n",
    "ax.plot(X_train[pos,0], X_train[pos,1], marker='.', color='#0F00FF', markersize=10, linestyle='', label='Accepted') \n",
    "ax.plot(X_train[neg,0], X_train[neg,1], marker='.', color='#FF00AE', markersize=10, linestyle='', label='Not Accepted')\n",
    "ax.legend()"
   ]
  },
  {
   "cell_type": "code",
   "execution_count": 5,
   "metadata": {},
   "outputs": [
    {
     "data": {
      "text/plain": [
       "Pipeline(memory=None,\n",
       "         steps=[('pf',\n",
       "                 PolynomialFeatures(degree=6, include_bias=False,\n",
       "                                    interaction_only=False, order='C')),\n",
       "                ('lr',\n",
       "                 LogisticRegression(C=1.0, class_weight=None, dual=False,\n",
       "                                    fit_intercept=True, intercept_scaling=1,\n",
       "                                    l1_ratio=None, max_iter=10000,\n",
       "                                    multi_class='auto', n_jobs=None,\n",
       "                                    penalty='none', random_state=None,\n",
       "                                    solver='sag', tol=0.0001, verbose=0,\n",
       "                                    warm_start=False))],\n",
       "         verbose=False)"
      ]
     },
     "execution_count": 5,
     "metadata": {},
     "output_type": "execute_result"
    }
   ],
   "source": [
    "model = Pipeline([('pf', PolynomialFeatures(degree=6, include_bias=False)),\n",
    "                  ('lr', LogisticRegression(penalty='none', max_iter=10000, solver='sag'))])\n",
    "                  \n",
    "model.fit(X_train, Y_train.flatten()) "
   ]
  },
  {
   "cell_type": "code",
   "execution_count": 6,
   "metadata": {
    "scrolled": true
   },
   "outputs": [
    {
     "data": {
      "text/plain": [
       "array([[1.31573081e-01, 8.68426919e-01],\n",
       "       [1.28042758e-01, 8.71957242e-01],\n",
       "       [8.68127346e-01, 1.31872684e-01],\n",
       "       [9.99511063e-01, 4.88958147e-04],\n",
       "       [9.99965250e-01, 3.47503446e-05],\n",
       "       [4.06795144e-02, 9.59320486e-01],\n",
       "       [4.38449502e-01, 5.61550498e-01],\n",
       "       [4.77164865e-01, 5.22835135e-01],\n",
       "       [2.24468887e-01, 7.75531113e-01],\n",
       "       [9.98393297e-01, 1.60669850e-03],\n",
       "       [7.16101706e-01, 2.83898294e-01],\n",
       "       [3.61155450e-01, 6.38844550e-01],\n",
       "       [9.99816298e-01, 1.83690674e-04],\n",
       "       [8.54134560e-04, 9.99145865e-01],\n",
       "       [1.04224682e-02, 9.89577532e-01],\n",
       "       [9.84603465e-01, 1.53965242e-02],\n",
       "       [1.15770102e-03, 9.98842299e-01],\n",
       "       [9.72584128e-01, 2.74158511e-02],\n",
       "       [1.44199550e-01, 8.55800450e-01],\n",
       "       [3.64563525e-01, 6.35436475e-01],\n",
       "       [9.32732224e-02, 9.06726778e-01],\n",
       "       [4.16266561e-01, 5.83733439e-01],\n",
       "       [3.97753716e-03, 9.96022463e-01],\n",
       "       [9.98767257e-01, 1.23271847e-03],\n",
       "       [9.55283642e-04, 9.99044716e-01],\n",
       "       [9.79315102e-01, 2.06848811e-02],\n",
       "       [1.46412849e-03, 9.98535872e-01],\n",
       "       [3.93224597e-01, 6.06775403e-01],\n",
       "       [9.93480444e-01, 6.51954906e-03],\n",
       "       [9.99931037e-01, 6.89522421e-05],\n",
       "       [9.99999464e-01, 5.57813564e-07],\n",
       "       [8.46117735e-03, 9.91538823e-01],\n",
       "       [1.00000000e+00, 1.17881982e-09],\n",
       "       [3.58619690e-01, 6.41380310e-01],\n",
       "       [9.98476207e-01, 1.52379507e-03],\n",
       "       [8.91497672e-01, 1.08502336e-01],\n",
       "       [5.07746935e-02, 9.49225307e-01],\n",
       "       [9.95934248e-01, 4.06574877e-03],\n",
       "       [2.55552351e-01, 7.44447649e-01],\n",
       "       [9.99999762e-01, 2.61060336e-07],\n",
       "       [2.44492292e-03, 9.97555077e-01],\n",
       "       [3.02431583e-01, 6.97568417e-01],\n",
       "       [5.08548737e-01, 4.91451263e-01],\n",
       "       [9.99077857e-01, 9.22135368e-04],\n",
       "       [9.95198131e-01, 4.80186893e-03],\n",
       "       [1.10119581e-01, 8.89880419e-01],\n",
       "       [9.85305905e-01, 1.46941179e-02],\n",
       "       [1.00000000e+00, 4.08549417e-10],\n",
       "       [7.93865263e-01, 2.06134722e-01],\n",
       "       [3.10575962e-01, 6.89424038e-01],\n",
       "       [1.00000000e+00, 6.11068440e-09],\n",
       "       [4.60463762e-03, 9.95395362e-01],\n",
       "       [1.30375206e-01, 8.69624794e-01],\n",
       "       [9.99475241e-01, 5.24787873e-04],\n",
       "       [9.44983959e-03, 9.90550160e-01],\n",
       "       [5.06972075e-02, 9.49302793e-01],\n",
       "       [9.40033376e-01, 5.99666014e-02],\n",
       "       [9.36319828e-02, 9.06368017e-01],\n",
       "       [8.64536881e-01, 1.35463104e-01],\n",
       "       [2.81718016e-01, 7.18281984e-01],\n",
       "       [1.01754069e-01, 8.98245931e-01],\n",
       "       [6.78203583e-01, 3.21796447e-01],\n",
       "       [5.91220498e-01, 4.08779472e-01],\n",
       "       [3.23410630e-02, 9.67658937e-01],\n",
       "       [2.07185864e-01, 7.92814136e-01],\n",
       "       [1.01874530e-01, 8.98125470e-01],\n",
       "       [6.07687235e-03, 9.93923128e-01],\n",
       "       [9.99952734e-01, 4.72892243e-05],\n",
       "       [8.05731654e-01, 1.94268376e-01],\n",
       "       [2.95537889e-01, 7.04462111e-01],\n",
       "       [4.74244356e-03, 9.95257556e-01],\n",
       "       [3.36841226e-01, 6.63158774e-01],\n",
       "       [1.25771761e-02, 9.87422824e-01],\n",
       "       [1.28256500e-01, 8.71743500e-01],\n",
       "       [3.15398574e-02, 9.68460143e-01],\n",
       "       [1.92865312e-01, 8.07134688e-01],\n",
       "       [9.99234498e-01, 7.65495060e-04],\n",
       "       [1.00000000e+00, 9.89077620e-16],\n",
       "       [8.80206108e-01, 1.19793899e-01],\n",
       "       [8.10403585e-01, 1.89596400e-01],\n",
       "       [3.16405058e-01, 6.83594942e-01],\n",
       "       [5.01423597e-01, 4.98576403e-01],\n",
       "       [1.00000000e+00, 1.73662516e-17],\n",
       "       [9.97957885e-01, 2.04209215e-03],\n",
       "       [6.39090598e-01, 3.60909402e-01],\n",
       "       [7.19437540e-01, 2.80562460e-01],\n",
       "       [9.99943793e-01, 5.62242567e-05],\n",
       "       [6.17994428e-01, 3.82005543e-01],\n",
       "       [3.96423101e-01, 6.03576899e-01],\n",
       "       [7.90426552e-01, 2.09573448e-01],\n",
       "       [4.02063727e-02, 9.59793627e-01],\n",
       "       [6.13451004e-04, 9.99386549e-01],\n",
       "       [5.52209973e-01, 4.47790027e-01],\n",
       "       [7.12070465e-02, 9.28792953e-01],\n",
       "       [4.57585216e-01, 5.42414784e-01],\n",
       "       [9.98054743e-01, 1.94523914e-03]], dtype=float32)"
      ]
     },
     "execution_count": 6,
     "metadata": {},
     "output_type": "execute_result"
    }
   ],
   "source": [
    "Y_pred = model.predict_proba(X_train)\n",
    "Y_pred"
   ]
  },
  {
   "cell_type": "code",
   "execution_count": 7,
   "metadata": {},
   "outputs": [
    {
     "data": {
      "text/plain": [
       "0.25682481571474813"
      ]
     },
     "execution_count": 7,
     "metadata": {},
     "output_type": "execute_result"
    }
   ],
   "source": [
    "log_loss(Y_train, Y_pred)"
   ]
  },
  {
   "cell_type": "code",
   "execution_count": 8,
   "metadata": {},
   "outputs": [
    {
     "data": {
      "text/plain": [
       "0.6778058612544555"
      ]
     },
     "execution_count": 8,
     "metadata": {},
     "output_type": "execute_result"
    }
   ],
   "source": [
    "log_loss(Y_test, model.predict_proba(X_test))"
   ]
  },
  {
   "cell_type": "code",
   "execution_count": 9,
   "metadata": {},
   "outputs": [
    {
     "data": {
      "text/plain": [
       "array([1., 1., 0., 0., 0., 1., 1., 1., 1., 0., 0., 1., 0., 1., 1., 0., 1.,\n",
       "       0., 1., 1., 1., 1., 1., 0., 1., 0., 1., 1., 0., 0., 0., 1., 0., 1.,\n",
       "       0., 0., 1., 0., 1., 0., 1., 1., 0., 0., 0., 1., 0., 0., 0., 1., 0.,\n",
       "       1., 1., 0., 1., 1., 0., 1., 0., 1., 1., 0., 0., 1., 1., 1., 1., 0.,\n",
       "       0., 1., 1., 1., 1., 1., 1., 1., 0., 0., 0., 0., 1., 0., 0., 0., 0.,\n",
       "       0., 0., 0., 1., 0., 1., 1., 0., 1., 1., 0.], dtype=float32)"
      ]
     },
     "execution_count": 9,
     "metadata": {},
     "output_type": "execute_result"
    }
   ],
   "source": [
    "Y_pred_label = model.predict(X_train)\n",
    "Y_pred_label"
   ]
  },
  {
   "cell_type": "code",
   "execution_count": 10,
   "metadata": {
    "scrolled": true
   },
   "outputs": [
    {
     "data": {
      "text/plain": [
       "array([[1.],\n",
       "       [1.],\n",
       "       [0.],\n",
       "       [0.],\n",
       "       [0.],\n",
       "       [1.],\n",
       "       [0.],\n",
       "       [1.],\n",
       "       [1.],\n",
       "       [0.],\n",
       "       [0.],\n",
       "       [1.],\n",
       "       [0.],\n",
       "       [1.],\n",
       "       [1.],\n",
       "       [0.],\n",
       "       [1.],\n",
       "       [0.],\n",
       "       [1.],\n",
       "       [1.],\n",
       "       [1.],\n",
       "       [1.],\n",
       "       [1.],\n",
       "       [0.],\n",
       "       [1.],\n",
       "       [0.],\n",
       "       [1.],\n",
       "       [1.],\n",
       "       [0.],\n",
       "       [0.],\n",
       "       [0.],\n",
       "       [1.],\n",
       "       [0.],\n",
       "       [1.],\n",
       "       [0.],\n",
       "       [0.],\n",
       "       [1.],\n",
       "       [0.],\n",
       "       [1.],\n",
       "       [0.],\n",
       "       [1.],\n",
       "       [0.],\n",
       "       [0.],\n",
       "       [0.],\n",
       "       [0.],\n",
       "       [1.],\n",
       "       [0.],\n",
       "       [0.],\n",
       "       [0.],\n",
       "       [1.],\n",
       "       [0.],\n",
       "       [1.],\n",
       "       [1.],\n",
       "       [0.],\n",
       "       [1.],\n",
       "       [1.],\n",
       "       [0.],\n",
       "       [0.],\n",
       "       [0.],\n",
       "       [1.],\n",
       "       [1.],\n",
       "       [0.],\n",
       "       [0.],\n",
       "       [1.],\n",
       "       [0.],\n",
       "       [0.],\n",
       "       [1.],\n",
       "       [0.],\n",
       "       [1.],\n",
       "       [1.],\n",
       "       [1.],\n",
       "       [1.],\n",
       "       [1.],\n",
       "       [1.],\n",
       "       [1.],\n",
       "       [1.],\n",
       "       [0.],\n",
       "       [0.],\n",
       "       [0.],\n",
       "       [0.],\n",
       "       [1.],\n",
       "       [1.],\n",
       "       [0.],\n",
       "       [0.],\n",
       "       [1.],\n",
       "       [0.],\n",
       "       [0.],\n",
       "       [0.],\n",
       "       [1.],\n",
       "       [0.],\n",
       "       [1.],\n",
       "       [1.],\n",
       "       [0.],\n",
       "       [1.],\n",
       "       [0.],\n",
       "       [0.]], dtype=float32)"
      ]
     },
     "execution_count": 10,
     "metadata": {},
     "output_type": "execute_result"
    }
   ],
   "source": [
    "Y_train"
   ]
  },
  {
   "cell_type": "code",
   "execution_count": 11,
   "metadata": {},
   "outputs": [
    {
     "data": {
      "text/plain": [
       "0.90625"
      ]
     },
     "execution_count": 11,
     "metadata": {},
     "output_type": "execute_result"
    }
   ],
   "source": [
    "accuracy_score(Y_train, Y_pred_label)"
   ]
  },
  {
   "cell_type": "code",
   "execution_count": 12,
   "metadata": {},
   "outputs": [
    {
     "data": {
      "text/plain": [
       "0.782608695652174"
      ]
     },
     "execution_count": 12,
     "metadata": {},
     "output_type": "execute_result"
    }
   ],
   "source": [
    "accuracy_score(Y_test, model.predict(X_test))"
   ]
  },
  {
   "cell_type": "code",
   "execution_count": 13,
   "metadata": {},
   "outputs": [
    {
     "data": {
      "text/plain": [
       "<matplotlib.legend.Legend at 0x7f98c8a1cf28>"
      ]
     },
     "execution_count": 13,
     "metadata": {},
     "output_type": "execute_result"
    },
    {
     "data": {
      "image/png": "[encoded data removed]",
      "text/plain": [
       "<Figure size 720x720 with 1 Axes>"
      ]
     },
     "metadata": {
      "needs_background": "light"
     },
     "output_type": "display_data"
    }
   ],
   "source": [
    "fig = plt.figure(figsize=(10, 10))\n",
    "ax = fig.add_subplot(1, 1, 1)\n",
    "ax.axis([np.min(X_train[:,0])-0.1, np.max(X_train[:,0])+0.1, np.min(X_train[:,1])-0.1, np.max(X_train[:,1])+0.1])\n",
    "ax.set_xlabel('Exam 1 score')\n",
    "ax.set_ylabel('Exam 2 score')\n",
    "u = np.linspace(np.min(X_train[:,0])-0.1, np.max(X_train[:,0])+0.1, 100)\n",
    "v = np.linspace(np.min(X_train[:,1])-0.1, np.max(X_train[:,1])+0.1, 100)\n",
    "z = []\n",
    "for i in range(100):\n",
    "    for j in range(100):\n",
    "        z.append([u[i], v[j]])\n",
    "z = np.array(z)\n",
    "w = model.predict(z)\n",
    "model_pos = np.where(w == 1)[0]\n",
    "model_neg = np.where(w == 0)[0]\n",
    "ax.plot(z[model_pos,0], z[model_pos,1], marker='+', color='#C7C3FF', markersize=10, linestyle='')\n",
    "ax.plot(z[model_neg,0], z[model_neg,1], marker='+', color='#FFECFB', markersize=10, linestyle='')\n",
    "pos = np.where(Y_train[:,0] == 1)[0]\n",
    "neg = np.where(Y_train[:,0] == 0)[0]\n",
    "ax.plot(X_train[pos,0], X_train[pos,1], marker='.', color='#0F00FF', markersize=10, linestyle='', label='Accepted') \n",
    "ax.plot(X_train[neg,0], X_train[neg,1], marker='.', color='#FF00AE', markersize=10, linestyle='', label='Not Accepted')\n",
    "ax.legend()"
   ]
  },
  {
   "cell_type": "markdown",
   "metadata": {},
   "source": [
    "-----"
   ]
  },
  {
   "cell_type": "code",
   "execution_count": 14,
   "metadata": {},
   "outputs": [
    {
     "data": {
      "text/plain": [
       "Pipeline(memory=None,\n",
       "         steps=[('pf',\n",
       "                 PolynomialFeatures(degree=6, include_bias=False,\n",
       "                                    interaction_only=False, order='C')),\n",
       "                ('lr',\n",
       "                 LogisticRegression(C=1.0, class_weight=None, dual=False,\n",
       "                                    fit_intercept=True, intercept_scaling=1,\n",
       "                                    l1_ratio=None, max_iter=10000,\n",
       "                                    multi_class='auto', n_jobs=None,\n",
       "                                    penalty='l2', random_state=None,\n",
       "                                    solver='sag', tol=0.0001, verbose=0,\n",
       "                                    warm_start=False))],\n",
       "         verbose=False)"
      ]
     },
     "execution_count": 14,
     "metadata": {},
     "output_type": "execute_result"
    }
   ],
   "source": [
    "model = Pipeline([('pf', PolynomialFeatures(degree=6, include_bias=False)),\n",
    "                  ('lr', LogisticRegression(penalty='l2', C=1/1., max_iter=10000, solver='sag'))])\n",
    "                  \n",
    "model.fit(X_train, Y_train.flatten()) "
   ]
  },
  {
   "cell_type": "code",
   "execution_count": 15,
   "metadata": {
    "scrolled": true
   },
   "outputs": [
    {
     "data": {
      "text/plain": [
       "array([[0.4418741 , 0.5581259 ],\n",
       "       [0.30159748, 0.6984025 ],\n",
       "       [0.7598615 , 0.24013849],\n",
       "       [0.6944391 , 0.3055609 ],\n",
       "       [0.75733817, 0.24266183],\n",
       "       [0.28534418, 0.7146558 ],\n",
       "       [0.46938735, 0.53061265],\n",
       "       [0.54108083, 0.45891917],\n",
       "       [0.48245066, 0.51754934],\n",
       "       [0.64102817, 0.3589718 ],\n",
       "       [0.44924527, 0.5507547 ],\n",
       "       [0.3760972 , 0.6239028 ],\n",
       "       [0.5968754 , 0.4031246 ],\n",
       "       [0.23341328, 0.7665867 ],\n",
       "       [0.30325937, 0.6967406 ],\n",
       "       [0.6821071 , 0.3178929 ],\n",
       "       [0.24091452, 0.7590855 ],\n",
       "       [0.54417616, 0.45582384],\n",
       "       [0.3848319 , 0.6151681 ],\n",
       "       [0.46432805, 0.53567195],\n",
       "       [0.35641712, 0.6435829 ],\n",
       "       [0.5935354 , 0.40646455],\n",
       "       [0.2711336 , 0.7288664 ],\n",
       "       [0.68773115, 0.31226888],\n",
       "       [0.23897034, 0.76102966],\n",
       "       [0.63066113, 0.3693389 ],\n",
       "       [0.22757936, 0.77242064],\n",
       "       [0.73048246, 0.26951757],\n",
       "       [0.95980513, 0.0401949 ],\n",
       "       [0.70373064, 0.29626936],\n",
       "       [0.8699266 , 0.13007341],\n",
       "       [0.30131269, 0.6986873 ],\n",
       "       [0.8971797 , 0.1028203 ],\n",
       "       [0.42462432, 0.5753757 ],\n",
       "       [0.62100387, 0.37899613],\n",
       "       [0.7729364 , 0.22706358],\n",
       "       [0.40186113, 0.59813887],\n",
       "       [0.80382854, 0.19617145],\n",
       "       [0.46551597, 0.534484  ],\n",
       "       [0.6492698 , 0.35073015],\n",
       "       [0.24783927, 0.7521607 ],\n",
       "       [0.38100964, 0.61899036],\n",
       "       [0.39927334, 0.60072666],\n",
       "       [0.68823874, 0.31176126],\n",
       "       [0.8701166 , 0.12988342],\n",
       "       [0.4047469 , 0.5952531 ],\n",
       "       [0.6391972 , 0.36080283],\n",
       "       [0.8811065 , 0.11889353],\n",
       "       [0.6050455 , 0.3949545 ],\n",
       "       [0.4621576 , 0.5378424 ],\n",
       "       [0.90476215, 0.09523787],\n",
       "       [0.27471358, 0.7252864 ],\n",
       "       [0.36285907, 0.6371409 ],\n",
       "       [0.7016115 , 0.2983885 ],\n",
       "       [0.282542  , 0.717458  ],\n",
       "       [0.28731608, 0.7126839 ],\n",
       "       [0.53751457, 0.46248543],\n",
       "       [0.40231526, 0.59768474],\n",
       "       [0.78079855, 0.21920143],\n",
       "       [0.37791258, 0.6220874 ],\n",
       "       [0.41751337, 0.5824866 ],\n",
       "       [0.43908256, 0.56091744],\n",
       "       [0.46869808, 0.5313019 ],\n",
       "       [0.37685066, 0.62314934],\n",
       "       [0.39735186, 0.60264814],\n",
       "       [0.32219422, 0.6778058 ],\n",
       "       [0.24499184, 0.75500816],\n",
       "       [0.6698632 , 0.3301368 ],\n",
       "       [0.4740131 , 0.5259869 ],\n",
       "       [0.3513888 , 0.6486112 ],\n",
       "       [0.28343934, 0.71656066],\n",
       "       [0.49621475, 0.50378525],\n",
       "       [0.3220834 , 0.6779166 ],\n",
       "       [0.36381465, 0.63618535],\n",
       "       [0.38041574, 0.61958426],\n",
       "       [0.42452598, 0.575474  ],\n",
       "       [0.7219093 , 0.2780907 ],\n",
       "       [0.9689386 , 0.03106139],\n",
       "       [0.5051324 , 0.49486762],\n",
       "       [0.6753499 , 0.3246501 ],\n",
       "       [0.3577969 , 0.6422031 ],\n",
       "       [0.37983423, 0.62016577],\n",
       "       [0.98439777, 0.01560222],\n",
       "       [0.8097304 , 0.19026956],\n",
       "       [0.48153096, 0.51846904],\n",
       "       [0.43215966, 0.56784034],\n",
       "       [0.60743326, 0.39256674],\n",
       "       [0.42278904, 0.57721096],\n",
       "       [0.41679084, 0.58320916],\n",
       "       [0.5093259 , 0.49067408],\n",
       "       [0.30153227, 0.69846773],\n",
       "       [0.20583874, 0.79416126],\n",
       "       [0.5254099 , 0.47459012],\n",
       "       [0.3294682 , 0.6705318 ],\n",
       "       [0.4416864 , 0.5583136 ],\n",
       "       [0.74288595, 0.25711408]], dtype=float32)"
      ]
     },
     "execution_count": 15,
     "metadata": {},
     "output_type": "execute_result"
    }
   ],
   "source": [
    "Y_pred = model.predict_proba(X_train)\n",
    "Y_pred"
   ]
  },
  {
   "cell_type": "code",
   "execution_count": 16,
   "metadata": {},
   "outputs": [
    {
     "data": {
      "text/plain": [
       "0.47685490348764387"
      ]
     },
     "execution_count": 16,
     "metadata": {},
     "output_type": "execute_result"
    }
   ],
   "source": [
    "log_loss(Y_train, Y_pred)"
   ]
  },
  {
   "cell_type": "code",
   "execution_count": 17,
   "metadata": {},
   "outputs": [
    {
     "data": {
      "text/plain": [
       "0.4816284497147021"
      ]
     },
     "execution_count": 17,
     "metadata": {},
     "output_type": "execute_result"
    }
   ],
   "source": [
    "log_loss(Y_test, model.predict_proba(X_test))"
   ]
  },
  {
   "cell_type": "code",
   "execution_count": 18,
   "metadata": {},
   "outputs": [
    {
     "data": {
      "text/plain": [
       "array([1., 1., 0., 0., 0., 1., 1., 0., 1., 0., 1., 1., 0., 1., 1., 0., 1.,\n",
       "       0., 1., 1., 1., 0., 1., 0., 1., 0., 1., 0., 0., 0., 0., 1., 0., 1.,\n",
       "       0., 0., 1., 0., 1., 0., 1., 1., 1., 0., 0., 1., 0., 0., 0., 1., 0.,\n",
       "       1., 1., 0., 1., 1., 0., 1., 0., 1., 1., 1., 1., 1., 1., 1., 1., 0.,\n",
       "       1., 1., 1., 1., 1., 1., 1., 1., 0., 0., 0., 0., 1., 1., 0., 0., 1.,\n",
       "       1., 0., 1., 1., 0., 1., 1., 0., 1., 1., 0.], dtype=float32)"
      ]
     },
     "execution_count": 18,
     "metadata": {},
     "output_type": "execute_result"
    }
   ],
   "source": [
    "Y_pred_label = model.predict(X_train)\n",
    "Y_pred_label"
   ]
  },
  {
   "cell_type": "code",
   "execution_count": 19,
   "metadata": {
    "scrolled": true
   },
   "outputs": [
    {
     "data": {
      "text/plain": [
       "array([[1.],\n",
       "       [1.],\n",
       "       [0.],\n",
       "       [0.],\n",
       "       [0.],\n",
       "       [1.],\n",
       "       [0.],\n",
       "       [1.],\n",
       "       [1.],\n",
       "       [0.],\n",
       "       [0.],\n",
       "       [1.],\n",
       "       [0.],\n",
       "       [1.],\n",
       "       [1.],\n",
       "       [0.],\n",
       "       [1.],\n",
       "       [0.],\n",
       "       [1.],\n",
       "       [1.],\n",
       "       [1.],\n",
       "       [1.],\n",
       "       [1.],\n",
       "       [0.],\n",
       "       [1.],\n",
       "       [0.],\n",
       "       [1.],\n",
       "       [1.],\n",
       "       [0.],\n",
       "       [0.],\n",
       "       [0.],\n",
       "       [1.],\n",
       "       [0.],\n",
       "       [1.],\n",
       "       [0.],\n",
       "       [0.],\n",
       "       [1.],\n",
       "       [0.],\n",
       "       [1.],\n",
       "       [0.],\n",
       "       [1.],\n",
       "       [0.],\n",
       "       [0.],\n",
       "       [0.],\n",
       "       [0.],\n",
       "       [1.],\n",
       "       [0.],\n",
       "       [0.],\n",
       "       [0.],\n",
       "       [1.],\n",
       "       [0.],\n",
       "       [1.],\n",
       "       [1.],\n",
       "       [0.],\n",
       "       [1.],\n",
       "       [1.],\n",
       "       [0.],\n",
       "       [0.],\n",
       "       [0.],\n",
       "       [1.],\n",
       "       [1.],\n",
       "       [0.],\n",
       "       [0.],\n",
       "       [1.],\n",
       "       [0.],\n",
       "       [0.],\n",
       "       [1.],\n",
       "       [0.],\n",
       "       [1.],\n",
       "       [1.],\n",
       "       [1.],\n",
       "       [1.],\n",
       "       [1.],\n",
       "       [1.],\n",
       "       [1.],\n",
       "       [1.],\n",
       "       [0.],\n",
       "       [0.],\n",
       "       [0.],\n",
       "       [0.],\n",
       "       [1.],\n",
       "       [1.],\n",
       "       [0.],\n",
       "       [0.],\n",
       "       [1.],\n",
       "       [0.],\n",
       "       [0.],\n",
       "       [0.],\n",
       "       [1.],\n",
       "       [0.],\n",
       "       [1.],\n",
       "       [1.],\n",
       "       [0.],\n",
       "       [1.],\n",
       "       [0.],\n",
       "       [0.]], dtype=float32)"
      ]
     },
     "execution_count": 19,
     "metadata": {},
     "output_type": "execute_result"
    }
   ],
   "source": [
    "Y_train"
   ]
  },
  {
   "cell_type": "code",
   "execution_count": 20,
   "metadata": {},
   "outputs": [
    {
     "data": {
      "text/plain": [
       "0.84375"
      ]
     },
     "execution_count": 20,
     "metadata": {},
     "output_type": "execute_result"
    }
   ],
   "source": [
    "accuracy_score(Y_train, Y_pred_label)"
   ]
  },
  {
   "cell_type": "code",
   "execution_count": 21,
   "metadata": {},
   "outputs": [
    {
     "data": {
      "text/plain": [
       "0.8260869565217391"
      ]
     },
     "execution_count": 21,
     "metadata": {},
     "output_type": "execute_result"
    }
   ],
   "source": [
    "accuracy_score(Y_test, model.predict(X_test))"
   ]
  },
  {
   "cell_type": "code",
   "execution_count": 22,
   "metadata": {},
   "outputs": [
    {
     "data": {
      "text/plain": [
       "<matplotlib.legend.Legend at 0x7f98c8a6aba8>"
      ]
     },
     "execution_count": 22,
     "metadata": {},
     "output_type": "execute_result"
    },
    {
     "data": {
      "image/png": "[encoded data removed]",
      "text/plain": [
       "<Figure size 720x720 with 1 Axes>"
      ]
     },
     "metadata": {
      "needs_background": "light"
     },
     "output_type": "display_data"
    }
   ],
   "source": [
    "fig = plt.figure(figsize=(10, 10))\n",
    "ax = fig.add_subplot(1, 1, 1)\n",
    "ax.axis([np.min(X_train[:,0])-0.1, np.max(X_train[:,0])+0.1, np.min(X_train[:,1])-0.1, np.max(X_train[:,1])+0.1])\n",
    "ax.set_xlabel('Exam 1 score')\n",
    "ax.set_ylabel('Exam 2 score')\n",
    "u = np.linspace(np.min(X_train[:,0])-0.1, np.max(X_train[:,0])+0.1, 100)\n",
    "v = np.linspace(np.min(X_train[:,1])-0.1, np.max(X_train[:,1])+0.1, 100)\n",
    "z = []\n",
    "for i in range(100):\n",
    "    for j in range(100):\n",
    "        z.append([u[i], v[j]])\n",
    "z = np.array(z)\n",
    "w = model.predict(z)\n",
    "model_pos = np.where(w == 1)[0]\n",
    "model_neg = np.where(w == 0)[0]\n",
    "ax.plot(z[model_pos,0], z[model_pos,1], marker='+', color='#C7C3FF', markersize=10, linestyle='')\n",
    "ax.plot(z[model_neg,0], z[model_neg,1], marker='+', color='#FFECFB', markersize=10, linestyle='')\n",
    "pos = np.where(Y_train[:,0] == 1)[0]\n",
    "neg = np.where(Y_train[:,0] == 0)[0]\n",
    "ax.plot(X_train[pos,0], X_train[pos,1], marker='.', color='#0F00FF', markersize=10, linestyle='', label='Accepted') \n",
    "ax.plot(X_train[neg,0], X_train[neg,1], marker='.', color='#FF00AE', markersize=10, linestyle='', label='Not Accepted')\n",
    "ax.legend()"
   ]
  }
 ],
 "metadata": {
  "kernelspec": {
   "display_name": "Python 3",
   "language": "python",
   "name": "python3"
  },
  "language_info": {
   "codemirror_mode": {
    "name": "ipython",
    "version": 3
   },
   "file_extension": ".py",
   "mimetype": "text/x-python",
   "name": "python",
   "nbconvert_exporter": "python",
   "pygments_lexer": "ipython3",
   "version": "3.6.9"
  }
 },
 "nbformat": 4,
 "nbformat_minor": 2
}
