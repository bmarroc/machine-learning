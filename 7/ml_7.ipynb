{
 "cells": [
  {
   "cell_type": "markdown",
   "metadata": {},
   "source": [
    "# Regularized Linear Regression"
   ]
  },
  {
   "cell_type": "code",
   "execution_count": 1,
   "metadata": {},
   "outputs": [],
   "source": [
    "import numpy as np\n",
    "import pandas as pd\n",
    "import matplotlib.pyplot as plt\n",
    "from sklearn.linear_model import Ridge\n",
    "from sklearn.preprocessing import PolynomialFeatures\n",
    "from sklearn.pipeline import Pipeline\n",
    "from sklearn.metrics import mean_squared_error"
   ]
  },
  {
   "cell_type": "code",
   "execution_count": 2,
   "metadata": {
    "scrolled": true
   },
   "outputs": [
    {
     "data": {
      "text/html": [
       "<div>\n",
       "<style scoped>\n",
       "    .dataframe tbody tr th:only-of-type {\n",
       "        vertical-align: middle;\n",
       "    }\n",
       "\n",
       "    .dataframe tbody tr th {\n",
       "        vertical-align: top;\n",
       "    }\n",
       "\n",
       "    .dataframe thead th {\n",
       "        text-align: right;\n",
       "    }\n",
       "</style>\n",
       "<table border=\"1\" class=\"dataframe\">\n",
       "  <thead>\n",
       "    <tr style=\"text-align: right;\">\n",
       "      <th></th>\n",
       "      <th>change_water_level</th>\n",
       "      <th>water_flowing_out</th>\n",
       "    </tr>\n",
       "  </thead>\n",
       "  <tbody>\n",
       "    <tr>\n",
       "      <td>0</td>\n",
       "      <td>-15.936758</td>\n",
       "      <td>2.134310</td>\n",
       "    </tr>\n",
       "    <tr>\n",
       "      <td>1</td>\n",
       "      <td>-29.152979</td>\n",
       "      <td>1.173257</td>\n",
       "    </tr>\n",
       "    <tr>\n",
       "      <td>2</td>\n",
       "      <td>36.189548</td>\n",
       "      <td>34.359108</td>\n",
       "    </tr>\n",
       "    <tr>\n",
       "      <td>3</td>\n",
       "      <td>37.492188</td>\n",
       "      <td>36.837955</td>\n",
       "    </tr>\n",
       "    <tr>\n",
       "      <td>4</td>\n",
       "      <td>-48.058830</td>\n",
       "      <td>2.808965</td>\n",
       "    </tr>\n",
       "    <tr>\n",
       "      <td>5</td>\n",
       "      <td>-8.941458</td>\n",
       "      <td>2.121073</td>\n",
       "    </tr>\n",
       "    <tr>\n",
       "      <td>6</td>\n",
       "      <td>15.307793</td>\n",
       "      <td>14.710268</td>\n",
       "    </tr>\n",
       "    <tr>\n",
       "      <td>7</td>\n",
       "      <td>-34.706264</td>\n",
       "      <td>2.614184</td>\n",
       "    </tr>\n",
       "    <tr>\n",
       "      <td>8</td>\n",
       "      <td>1.389154</td>\n",
       "      <td>3.740172</td>\n",
       "    </tr>\n",
       "    <tr>\n",
       "      <td>9</td>\n",
       "      <td>-44.383759</td>\n",
       "      <td>3.731691</td>\n",
       "    </tr>\n",
       "    <tr>\n",
       "      <td>10</td>\n",
       "      <td>7.013502</td>\n",
       "      <td>7.627659</td>\n",
       "    </tr>\n",
       "    <tr>\n",
       "      <td>11</td>\n",
       "      <td>22.762749</td>\n",
       "      <td>22.752428</td>\n",
       "    </tr>\n",
       "    <tr>\n",
       "      <td>12</td>\n",
       "      <td>-16.746536</td>\n",
       "      <td>4.170202</td>\n",
       "    </tr>\n",
       "    <tr>\n",
       "      <td>13</td>\n",
       "      <td>-14.577471</td>\n",
       "      <td>4.067263</td>\n",
       "    </tr>\n",
       "    <tr>\n",
       "      <td>14</td>\n",
       "      <td>34.515759</td>\n",
       "      <td>31.873068</td>\n",
       "    </tr>\n",
       "    <tr>\n",
       "      <td>15</td>\n",
       "      <td>-47.010075</td>\n",
       "      <td>10.623656</td>\n",
       "    </tr>\n",
       "    <tr>\n",
       "      <td>16</td>\n",
       "      <td>36.975121</td>\n",
       "      <td>31.836021</td>\n",
       "    </tr>\n",
       "    <tr>\n",
       "      <td>17</td>\n",
       "      <td>-40.686111</td>\n",
       "      <td>4.959370</td>\n",
       "    </tr>\n",
       "    <tr>\n",
       "      <td>18</td>\n",
       "      <td>-4.472011</td>\n",
       "      <td>4.451599</td>\n",
       "    </tr>\n",
       "    <tr>\n",
       "      <td>19</td>\n",
       "      <td>26.533634</td>\n",
       "      <td>22.276318</td>\n",
       "    </tr>\n",
       "    <tr>\n",
       "      <td>20</td>\n",
       "      <td>-42.797684</td>\n",
       "      <td>-0.000044</td>\n",
       "    </tr>\n",
       "    <tr>\n",
       "      <td>21</td>\n",
       "      <td>25.374100</td>\n",
       "      <td>20.503801</td>\n",
       "    </tr>\n",
       "    <tr>\n",
       "      <td>22</td>\n",
       "      <td>-31.109554</td>\n",
       "      <td>3.858345</td>\n",
       "    </tr>\n",
       "    <tr>\n",
       "      <td>23</td>\n",
       "      <td>27.311769</td>\n",
       "      <td>19.365053</td>\n",
       "    </tr>\n",
       "    <tr>\n",
       "      <td>24</td>\n",
       "      <td>-3.263862</td>\n",
       "      <td>4.883763</td>\n",
       "    </tr>\n",
       "    <tr>\n",
       "      <td>25</td>\n",
       "      <td>-1.818277</td>\n",
       "      <td>11.097158</td>\n",
       "    </tr>\n",
       "    <tr>\n",
       "      <td>26</td>\n",
       "      <td>-40.719662</td>\n",
       "      <td>7.461708</td>\n",
       "    </tr>\n",
       "    <tr>\n",
       "      <td>27</td>\n",
       "      <td>-50.013245</td>\n",
       "      <td>1.476935</td>\n",
       "    </tr>\n",
       "    <tr>\n",
       "      <td>28</td>\n",
       "      <td>-17.411772</td>\n",
       "      <td>2.719164</td>\n",
       "    </tr>\n",
       "    <tr>\n",
       "      <td>29</td>\n",
       "      <td>3.588194</td>\n",
       "      <td>10.926901</td>\n",
       "    </tr>\n",
       "    <tr>\n",
       "      <td>30</td>\n",
       "      <td>7.085480</td>\n",
       "      <td>8.348712</td>\n",
       "    </tr>\n",
       "    <tr>\n",
       "      <td>31</td>\n",
       "      <td>46.282368</td>\n",
       "      <td>52.781929</td>\n",
       "    </tr>\n",
       "    <tr>\n",
       "      <td>32</td>\n",
       "      <td>14.612289</td>\n",
       "      <td>13.357340</td>\n",
       "    </tr>\n",
       "    <tr>\n",
       "      <td>33</td>\n",
       "      <td>-33.318005</td>\n",
       "      <td>3.316890</td>\n",
       "    </tr>\n",
       "    <tr>\n",
       "      <td>34</td>\n",
       "      <td>-37.912163</td>\n",
       "      <td>5.397689</td>\n",
       "    </tr>\n",
       "    <tr>\n",
       "      <td>35</td>\n",
       "      <td>-51.206940</td>\n",
       "      <td>0.130430</td>\n",
       "    </tr>\n",
       "    <tr>\n",
       "      <td>36</td>\n",
       "      <td>-6.132596</td>\n",
       "      <td>6.192598</td>\n",
       "    </tr>\n",
       "    <tr>\n",
       "      <td>37</td>\n",
       "      <td>21.261183</td>\n",
       "      <td>17.088488</td>\n",
       "    </tr>\n",
       "    <tr>\n",
       "      <td>38</td>\n",
       "      <td>-40.319530</td>\n",
       "      <td>0.799508</td>\n",
       "    </tr>\n",
       "    <tr>\n",
       "      <td>39</td>\n",
       "      <td>-14.541532</td>\n",
       "      <td>2.824792</td>\n",
       "    </tr>\n",
       "    <tr>\n",
       "      <td>40</td>\n",
       "      <td>32.559761</td>\n",
       "      <td>28.621233</td>\n",
       "    </tr>\n",
       "    <tr>\n",
       "      <td>41</td>\n",
       "      <td>13.393433</td>\n",
       "      <td>17.046391</td>\n",
       "    </tr>\n",
       "    <tr>\n",
       "      <td>42</td>\n",
       "      <td>44.209885</td>\n",
       "      <td>55.384373</td>\n",
       "    </tr>\n",
       "    <tr>\n",
       "      <td>43</td>\n",
       "      <td>-1.142678</td>\n",
       "      <td>4.079367</td>\n",
       "    </tr>\n",
       "    <tr>\n",
       "      <td>44</td>\n",
       "      <td>-12.766861</td>\n",
       "      <td>8.270398</td>\n",
       "    </tr>\n",
       "    <tr>\n",
       "      <td>45</td>\n",
       "      <td>34.054504</td>\n",
       "      <td>31.323551</td>\n",
       "    </tr>\n",
       "    <tr>\n",
       "      <td>46</td>\n",
       "      <td>39.223499</td>\n",
       "      <td>39.159061</td>\n",
       "    </tr>\n",
       "    <tr>\n",
       "      <td>47</td>\n",
       "      <td>1.974497</td>\n",
       "      <td>8.087280</td>\n",
       "    </tr>\n",
       "    <tr>\n",
       "      <td>48</td>\n",
       "      <td>29.621756</td>\n",
       "      <td>24.111343</td>\n",
       "    </tr>\n",
       "    <tr>\n",
       "      <td>49</td>\n",
       "      <td>-23.669630</td>\n",
       "      <td>2.477355</td>\n",
       "    </tr>\n",
       "    <tr>\n",
       "      <td>50</td>\n",
       "      <td>-9.011802</td>\n",
       "      <td>6.566065</td>\n",
       "    </tr>\n",
       "    <tr>\n",
       "      <td>51</td>\n",
       "      <td>-55.940571</td>\n",
       "      <td>6.038089</td>\n",
       "    </tr>\n",
       "    <tr>\n",
       "      <td>52</td>\n",
       "      <td>-35.708599</td>\n",
       "      <td>4.692739</td>\n",
       "    </tr>\n",
       "    <tr>\n",
       "      <td>53</td>\n",
       "      <td>9.510205</td>\n",
       "      <td>10.830046</td>\n",
       "    </tr>\n",
       "  </tbody>\n",
       "</table>\n",
       "</div>"
      ],
      "text/plain": [
       "    change_water_level  water_flowing_out\n",
       "0           -15.936758           2.134310\n",
       "1           -29.152979           1.173257\n",
       "2            36.189548          34.359108\n",
       "3            37.492188          36.837955\n",
       "4           -48.058830           2.808965\n",
       "5            -8.941458           2.121073\n",
       "6            15.307793          14.710268\n",
       "7           -34.706264           2.614184\n",
       "8             1.389154           3.740172\n",
       "9           -44.383759           3.731691\n",
       "10            7.013502           7.627659\n",
       "11           22.762749          22.752428\n",
       "12          -16.746536           4.170202\n",
       "13          -14.577471           4.067263\n",
       "14           34.515759          31.873068\n",
       "15          -47.010075          10.623656\n",
       "16           36.975121          31.836021\n",
       "17          -40.686111           4.959370\n",
       "18           -4.472011           4.451599\n",
       "19           26.533634          22.276318\n",
       "20          -42.797684          -0.000044\n",
       "21           25.374100          20.503801\n",
       "22          -31.109554           3.858345\n",
       "23           27.311769          19.365053\n",
       "24           -3.263862           4.883763\n",
       "25           -1.818277          11.097158\n",
       "26          -40.719662           7.461708\n",
       "27          -50.013245           1.476935\n",
       "28          -17.411772           2.719164\n",
       "29            3.588194          10.926901\n",
       "30            7.085480           8.348712\n",
       "31           46.282368          52.781929\n",
       "32           14.612289          13.357340\n",
       "33          -33.318005           3.316890\n",
       "34          -37.912163           5.397689\n",
       "35          -51.206940           0.130430\n",
       "36           -6.132596           6.192598\n",
       "37           21.261183          17.088488\n",
       "38          -40.319530           0.799508\n",
       "39          -14.541532           2.824792\n",
       "40           32.559761          28.621233\n",
       "41           13.393433          17.046391\n",
       "42           44.209885          55.384373\n",
       "43           -1.142678           4.079367\n",
       "44          -12.766861           8.270398\n",
       "45           34.054504          31.323551\n",
       "46           39.223499          39.159061\n",
       "47            1.974497           8.087280\n",
       "48           29.621756          24.111343\n",
       "49          -23.669630           2.477355\n",
       "50           -9.011802           6.566065\n",
       "51          -55.940571           6.038089\n",
       "52          -35.708599           4.692739\n",
       "53            9.510205          10.830046"
      ]
     },
     "execution_count": 2,
     "metadata": {},
     "output_type": "execute_result"
    }
   ],
   "source": [
    "data = pd.read_table('ex5data1.txt', sep=',', header=None, names=['change_water_level', 'water_flowing_out'], dtype=np.float32)\n",
    "data"
   ]
  },
  {
   "cell_type": "code",
   "execution_count": 3,
   "metadata": {},
   "outputs": [],
   "source": [
    "X_train = data.loc[:43,['change_water_level']].values\n",
    "Y_train = data.loc[:43,['water_flowing_out']].values\n",
    "\n",
    "X_test = data.loc[43:,['change_water_level']].values\n",
    "Y_test = data.loc[43:,['water_flowing_out']].values"
   ]
  },
  {
   "cell_type": "code",
   "execution_count": 4,
   "metadata": {},
   "outputs": [
    {
     "data": {
      "text/plain": [
       "[<matplotlib.lines.Line2D at 0x7fe825c1d4a8>]"
      ]
     },
     "execution_count": 4,
     "metadata": {},
     "output_type": "execute_result"
    },
    {
     "data": {
      "image/png": "[encoded data removed]",
      "text/plain": [
       "<Figure size 720x720 with 1 Axes>"
      ]
     },
     "metadata": {
      "needs_background": "light"
     },
     "output_type": "display_data"
    }
   ],
   "source": [
    "fig = plt.figure(figsize=(10, 10))\n",
    "ax = fig.add_subplot(1, 1, 1)\n",
    "ax.set_xlabel('Change in water level (x)')\n",
    "ax.set_ylabel('Water flowing out of the dam (y)')\n",
    "ax.plot(X_train, Y_train, marker='.', color='#0F00FF', markersize=10, linestyle='') "
   ]
  },
  {
   "cell_type": "code",
   "execution_count": 5,
   "metadata": {},
   "outputs": [
    {
     "data": {
      "text/plain": [
       "Pipeline(memory=None,\n",
       "         steps=[('pf',\n",
       "                 PolynomialFeatures(degree=4, include_bias=False,\n",
       "                                    interaction_only=False, order='C')),\n",
       "                ('r',\n",
       "                 Ridge(alpha=0.0, copy_X=True, fit_intercept=True,\n",
       "                       max_iter=None, normalize=False, random_state=None,\n",
       "                       solver='svd', tol=0.001))],\n",
       "         verbose=False)"
      ]
     },
     "execution_count": 5,
     "metadata": {},
     "output_type": "execute_result"
    }
   ],
   "source": [
    "model = Pipeline([('pf', PolynomialFeatures(degree=4, include_bias=False)),\n",
    "                  ('r', Ridge(alpha=0., solver='svd'))])\n",
    "                  \n",
    "model.fit(X_train, Y_train.flatten()) "
   ]
  },
  {
   "cell_type": "code",
   "execution_count": 6,
   "metadata": {},
   "outputs": [
    {
     "data": {
      "text/plain": [
       "array([ 3.8854747,  3.2509518, 34.995644 , 37.085716 ,  3.4783344,\n",
       "        4.6824293, 13.097511 ,  3.195382 ,  6.88873  ,  3.3337736,\n",
       "        8.843056 , 18.75276  ,  3.818903 ,  4.0079026, 32.458336 ,\n",
       "        3.4308538, 36.243736 ,  3.2435904,  5.454943 , 22.436306 ,\n",
       "        3.2888823, 21.238235 ,  3.2200503, 23.274405 ,  5.7077165,\n",
       "        6.0378423,  3.2441864,  3.5815887,  3.7675734,  7.5770507,\n",
       "        8.872405 , 54.115887 , 12.666334 ,  3.2001147,  3.2071462,\n",
       "        3.654931 ,  5.139496 , 17.449797 ,  3.2373161,  4.0113297,\n",
       "       29.695396 , 11.946199 , 49.609818 ,  6.203041 ], dtype=float32)"
      ]
     },
     "execution_count": 6,
     "metadata": {},
     "output_type": "execute_result"
    }
   ],
   "source": [
    "Y_pred = model.predict(X_train)\n",
    "Y_pred"
   ]
  },
  {
   "cell_type": "code",
   "execution_count": 7,
   "metadata": {
    "scrolled": true
   },
   "outputs": [
    {
     "data": {
      "text/plain": [
       "array([[ 2.1343105e+00],\n",
       "       [ 1.1732566e+00],\n",
       "       [ 3.4359108e+01],\n",
       "       [ 3.6837955e+01],\n",
       "       [ 2.8089650e+00],\n",
       "       [ 2.1210725e+00],\n",
       "       [ 1.4710268e+01],\n",
       "       [ 2.6141844e+00],\n",
       "       [ 3.7401717e+00],\n",
       "       [ 3.7316914e+00],\n",
       "       [ 7.6276588e+00],\n",
       "       [ 2.2752428e+01],\n",
       "       [ 4.1702018e+00],\n",
       "       [ 4.0672626e+00],\n",
       "       [ 3.1873068e+01],\n",
       "       [ 1.0623656e+01],\n",
       "       [ 3.1836021e+01],\n",
       "       [ 4.9593697e+00],\n",
       "       [ 4.4515986e+00],\n",
       "       [ 2.2276318e+01],\n",
       "       [-4.3873828e-05],\n",
       "       [ 2.0503801e+01],\n",
       "       [ 3.8583448e+00],\n",
       "       [ 1.9365053e+01],\n",
       "       [ 4.8837628e+00],\n",
       "       [ 1.1097158e+01],\n",
       "       [ 7.4617081e+00],\n",
       "       [ 1.4769347e+00],\n",
       "       [ 2.7191639e+00],\n",
       "       [ 1.0926901e+01],\n",
       "       [ 8.3487120e+00],\n",
       "       [ 5.2781929e+01],\n",
       "       [ 1.3357340e+01],\n",
       "       [ 3.3168895e+00],\n",
       "       [ 5.3976893e+00],\n",
       "       [ 1.3042983e-01],\n",
       "       [ 6.1925983e+00],\n",
       "       [ 1.7088488e+01],\n",
       "       [ 7.9950804e-01],\n",
       "       [ 2.8247919e+00],\n",
       "       [ 2.8621233e+01],\n",
       "       [ 1.7046391e+01],\n",
       "       [ 5.5384373e+01],\n",
       "       [ 4.0793672e+00]], dtype=float32)"
      ]
     },
     "execution_count": 7,
     "metadata": {},
     "output_type": "execute_result"
    }
   ],
   "source": [
    "Y_train"
   ]
  },
  {
   "cell_type": "code",
   "execution_count": 8,
   "metadata": {},
   "outputs": [
    {
     "data": {
      "text/plain": [
       "3.4339866638183594"
      ]
     },
     "execution_count": 8,
     "metadata": {},
     "output_type": "execute_result"
    }
   ],
   "source": [
    "(1/2)*mean_squared_error(Y_train, Y_pred)"
   ]
  },
  {
   "cell_type": "code",
   "execution_count": 9,
   "metadata": {},
   "outputs": [
    {
     "data": {
      "text/plain": [
       "1.726138949394226"
      ]
     },
     "execution_count": 9,
     "metadata": {},
     "output_type": "execute_result"
    }
   ],
   "source": [
    "(1/2)*mean_squared_error(Y_test, model.predict(X_test))"
   ]
  },
  {
   "cell_type": "code",
   "execution_count": 10,
   "metadata": {},
   "outputs": [
    {
     "data": {
      "text/plain": [
       "<matplotlib.legend.Legend at 0x7fe825ec2860>"
      ]
     },
     "execution_count": 10,
     "metadata": {},
     "output_type": "execute_result"
    },
    {
     "data": {
      "image/png": "[encoded data removed]",
      "text/plain": [
       "<Figure size 720x720 with 1 Axes>"
      ]
     },
     "metadata": {
      "needs_background": "light"
     },
     "output_type": "display_data"
    }
   ],
   "source": [
    "fig = plt.figure(figsize=(10, 10))\n",
    "ax = fig.add_subplot(1, 1, 1)\n",
    "ax.set_xlabel('Change in water level (x)')\n",
    "ax.set_ylabel('Water flowing out of the dam (y)')\n",
    "ax.plot(X_train, Y_train, marker='.', color='#0F00FF', markersize=10, linestyle='', label='Training data') \n",
    "ax.plot(X_train, Y_pred, marker='.', color='#FF00AE', markersize=10, linestyle='', label='Linear regression')\n",
    "ax.legend()"
   ]
  },
  {
   "cell_type": "markdown",
   "metadata": {},
   "source": [
    "-----"
   ]
  },
  {
   "cell_type": "code",
   "execution_count": 11,
   "metadata": {},
   "outputs": [
    {
     "data": {
      "text/plain": [
       "Pipeline(memory=None,\n",
       "         steps=[('pf',\n",
       "                 PolynomialFeatures(degree=4, include_bias=False,\n",
       "                                    interaction_only=False, order='C')),\n",
       "                ('r',\n",
       "                 Ridge(alpha=1000.0, copy_X=True, fit_intercept=True,\n",
       "                       max_iter=None, normalize=False, random_state=None,\n",
       "                       solver='svd', tol=0.001))],\n",
       "         verbose=False)"
      ]
     },
     "execution_count": 11,
     "metadata": {},
     "output_type": "execute_result"
    }
   ],
   "source": [
    "model = Pipeline([('pf', PolynomialFeatures(degree=4, include_bias=False)),\n",
    "                  ('r', Ridge(alpha=1000., solver='svd'))])\n",
    "                  \n",
    "model.fit(X_train, Y_train.flatten()) "
   ]
  },
  {
   "cell_type": "code",
   "execution_count": 12,
   "metadata": {},
   "outputs": [
    {
     "data": {
      "text/plain": [
       "array([ 4.4858265,  3.8715394, 34.659904 , 36.859154 ,  3.2406988,\n",
       "        5.092414 , 12.49766  ,  3.6714253,  6.873587 ,  3.3406048,\n",
       "        8.571372 , 17.999592 ,  4.4341583,  4.579669 , 32.003296 ,\n",
       "        3.2663555, 35.97207  ,  3.4610295,  5.695931 , 21.690868 ,\n",
       "        3.390585 , 20.48294  ,  3.800365 , 22.539635 ,  5.898375 ,\n",
       "        6.166294 ,  3.4598856,  3.2009268,  4.3938494,  7.461163 ,\n",
       "        8.597506 , 55.06124  , 12.0893   ,  3.7210374,  3.557541 ,\n",
       "        3.1828346,  5.4467216, 16.711592 ,  3.473586 ,  4.5822806,\n",
       "       29.128897 , 11.411779 , 50.20378  ,  6.3017936], dtype=float32)"
      ]
     },
     "execution_count": 12,
     "metadata": {},
     "output_type": "execute_result"
    }
   ],
   "source": [
    "Y_pred = model.predict(X_train)\n",
    "Y_pred"
   ]
  },
  {
   "cell_type": "code",
   "execution_count": 13,
   "metadata": {
    "scrolled": true
   },
   "outputs": [
    {
     "data": {
      "text/plain": [
       "array([[ 2.1343105e+00],\n",
       "       [ 1.1732566e+00],\n",
       "       [ 3.4359108e+01],\n",
       "       [ 3.6837955e+01],\n",
       "       [ 2.8089650e+00],\n",
       "       [ 2.1210725e+00],\n",
       "       [ 1.4710268e+01],\n",
       "       [ 2.6141844e+00],\n",
       "       [ 3.7401717e+00],\n",
       "       [ 3.7316914e+00],\n",
       "       [ 7.6276588e+00],\n",
       "       [ 2.2752428e+01],\n",
       "       [ 4.1702018e+00],\n",
       "       [ 4.0672626e+00],\n",
       "       [ 3.1873068e+01],\n",
       "       [ 1.0623656e+01],\n",
       "       [ 3.1836021e+01],\n",
       "       [ 4.9593697e+00],\n",
       "       [ 4.4515986e+00],\n",
       "       [ 2.2276318e+01],\n",
       "       [-4.3873828e-05],\n",
       "       [ 2.0503801e+01],\n",
       "       [ 3.8583448e+00],\n",
       "       [ 1.9365053e+01],\n",
       "       [ 4.8837628e+00],\n",
       "       [ 1.1097158e+01],\n",
       "       [ 7.4617081e+00],\n",
       "       [ 1.4769347e+00],\n",
       "       [ 2.7191639e+00],\n",
       "       [ 1.0926901e+01],\n",
       "       [ 8.3487120e+00],\n",
       "       [ 5.2781929e+01],\n",
       "       [ 1.3357340e+01],\n",
       "       [ 3.3168895e+00],\n",
       "       [ 5.3976893e+00],\n",
       "       [ 1.3042983e-01],\n",
       "       [ 6.1925983e+00],\n",
       "       [ 1.7088488e+01],\n",
       "       [ 7.9950804e-01],\n",
       "       [ 2.8247919e+00],\n",
       "       [ 2.8621233e+01],\n",
       "       [ 1.7046391e+01],\n",
       "       [ 5.5384373e+01],\n",
       "       [ 4.0793672e+00]], dtype=float32)"
      ]
     },
     "execution_count": 13,
     "metadata": {},
     "output_type": "execute_result"
    }
   ],
   "source": [
    "Y_train"
   ]
  },
  {
   "cell_type": "code",
   "execution_count": 14,
   "metadata": {},
   "outputs": [
    {
     "data": {
      "text/plain": [
       "3.5486457347869873"
      ]
     },
     "execution_count": 14,
     "metadata": {},
     "output_type": "execute_result"
    }
   ],
   "source": [
    "(1/2)*mean_squared_error(Y_train, model.predict(X_train))"
   ]
  },
  {
   "cell_type": "code",
   "execution_count": 15,
   "metadata": {},
   "outputs": [
    {
     "data": {
      "text/plain": [
       "1.6525154113769531"
      ]
     },
     "execution_count": 15,
     "metadata": {},
     "output_type": "execute_result"
    }
   ],
   "source": [
    "(1/2)*mean_squared_error(Y_test, model.predict(X_test))"
   ]
  },
  {
   "cell_type": "code",
   "execution_count": 16,
   "metadata": {},
   "outputs": [
    {
     "data": {
      "text/plain": [
       "<matplotlib.legend.Legend at 0x7fe826b072e8>"
      ]
     },
     "execution_count": 16,
     "metadata": {},
     "output_type": "execute_result"
    },
    {
     "data": {
      "image/png": "[encoded data removed]",
      "text/plain": [
       "<Figure size 720x720 with 1 Axes>"
      ]
     },
     "metadata": {
      "needs_background": "light"
     },
     "output_type": "display_data"
    }
   ],
   "source": [
    "fig = plt.figure(figsize=(10, 10))\n",
    "ax = fig.add_subplot(1, 1, 1)\n",
    "ax.set_xlabel('Change in water level (x)')\n",
    "ax.set_ylabel('Water flowing out of the dam (y)')\n",
    "ax.plot(X_train, Y_train, marker='.', color='#0F00FF', markersize=10, linestyle='', label='Training data') \n",
    "ax.plot(X_train, Y_pred, marker='.', color='#FF00AE', markersize=10, linestyle='', label='Linear regression')\n",
    "ax.legend()"
   ]
  }
 ],
 "metadata": {
  "kernelspec": {
   "display_name": "Python 3",
   "language": "python",
   "name": "python3"
  },
  "language_info": {
   "codemirror_mode": {
    "name": "ipython",
    "version": 3
   },
   "file_extension": ".py",
   "mimetype": "text/x-python",
   "name": "python",
   "nbconvert_exporter": "python",
   "pygments_lexer": "ipython3",
   "version": "3.6.9"
  }
 },
 "nbformat": 4,
 "nbformat_minor": 2
}
