{
 "cells": [
  {
   "cell_type": "markdown",
   "metadata": {},
   "source": [
    "# Linear Regression with one variable"
   ]
  },
  {
   "cell_type": "code",
   "execution_count": 1,
   "metadata": {},
   "outputs": [],
   "source": [
    "import numpy as np\n",
    "import pandas as pd\n",
    "from sklearn.linear_model import LinearRegression\n",
    "from sklearn.metrics import mean_squared_error\n",
    "import matplotlib.pyplot as plt"
   ]
  },
  {
   "cell_type": "code",
   "execution_count": 2,
   "metadata": {},
   "outputs": [
    {
     "data": {
      "text/html": [
       "<div>\n",
       "<style scoped>\n",
       "    .dataframe tbody tr th:only-of-type {\n",
       "        vertical-align: middle;\n",
       "    }\n",
       "\n",
       "    .dataframe tbody tr th {\n",
       "        vertical-align: top;\n",
       "    }\n",
       "\n",
       "    .dataframe thead th {\n",
       "        text-align: right;\n",
       "    }\n",
       "</style>\n",
       "<table border=\"1\" class=\"dataframe\">\n",
       "  <thead>\n",
       "    <tr style=\"text-align: right;\">\n",
       "      <th></th>\n",
       "      <th>population</th>\n",
       "      <th>profit</th>\n",
       "    </tr>\n",
       "  </thead>\n",
       "  <tbody>\n",
       "    <tr>\n",
       "      <td>0</td>\n",
       "      <td>6.1101</td>\n",
       "      <td>17.591999</td>\n",
       "    </tr>\n",
       "    <tr>\n",
       "      <td>1</td>\n",
       "      <td>5.5277</td>\n",
       "      <td>9.130200</td>\n",
       "    </tr>\n",
       "    <tr>\n",
       "      <td>2</td>\n",
       "      <td>8.5186</td>\n",
       "      <td>13.662000</td>\n",
       "    </tr>\n",
       "    <tr>\n",
       "      <td>3</td>\n",
       "      <td>7.0032</td>\n",
       "      <td>11.854000</td>\n",
       "    </tr>\n",
       "    <tr>\n",
       "      <td>4</td>\n",
       "      <td>5.8598</td>\n",
       "      <td>6.823300</td>\n",
       "    </tr>\n",
       "    <tr>\n",
       "      <td>...</td>\n",
       "      <td>...</td>\n",
       "      <td>...</td>\n",
       "    </tr>\n",
       "    <tr>\n",
       "      <td>92</td>\n",
       "      <td>5.8707</td>\n",
       "      <td>7.202900</td>\n",
       "    </tr>\n",
       "    <tr>\n",
       "      <td>93</td>\n",
       "      <td>5.3054</td>\n",
       "      <td>1.986900</td>\n",
       "    </tr>\n",
       "    <tr>\n",
       "      <td>94</td>\n",
       "      <td>8.2934</td>\n",
       "      <td>0.144540</td>\n",
       "    </tr>\n",
       "    <tr>\n",
       "      <td>95</td>\n",
       "      <td>13.3940</td>\n",
       "      <td>9.055100</td>\n",
       "    </tr>\n",
       "    <tr>\n",
       "      <td>96</td>\n",
       "      <td>5.4369</td>\n",
       "      <td>0.617050</td>\n",
       "    </tr>\n",
       "  </tbody>\n",
       "</table>\n",
       "<p>97 rows × 2 columns</p>\n",
       "</div>"
      ],
      "text/plain": [
       "    population     profit\n",
       "0       6.1101  17.591999\n",
       "1       5.5277   9.130200\n",
       "2       8.5186  13.662000\n",
       "3       7.0032  11.854000\n",
       "4       5.8598   6.823300\n",
       "..         ...        ...\n",
       "92      5.8707   7.202900\n",
       "93      5.3054   1.986900\n",
       "94      8.2934   0.144540\n",
       "95     13.3940   9.055100\n",
       "96      5.4369   0.617050\n",
       "\n",
       "[97 rows x 2 columns]"
      ]
     },
     "execution_count": 2,
     "metadata": {},
     "output_type": "execute_result"
    }
   ],
   "source": [
    "data = pd.read_table('ex1data1.txt', sep=',', header=None, names=['population', 'profit'], dtype=np.float32)\n",
    "data"
   ]
  },
  {
   "cell_type": "code",
   "execution_count": 3,
   "metadata": {},
   "outputs": [],
   "source": [
    "X_train = data.loc[:,['population']].values\n",
    "Y_train = data.loc[:,['profit']].values"
   ]
  },
  {
   "cell_type": "code",
   "execution_count": 4,
   "metadata": {},
   "outputs": [
    {
     "data": {
      "text/plain": [
       "[<matplotlib.lines.Line2D at 0x7f9831e06be0>]"
      ]
     },
     "execution_count": 4,
     "metadata": {},
     "output_type": "execute_result"
    },
    {
     "data": {
      "image/png": "[encoded data removed]",
      "text/plain": [
       "<Figure size 720x720 with 1 Axes>"
      ]
     },
     "metadata": {
      "needs_background": "light"
     },
     "output_type": "display_data"
    }
   ],
   "source": [
    "fig = plt.figure(figsize=(10, 10))\n",
    "ax = fig.add_subplot(1, 1, 1)\n",
    "ax.set_xlabel('Population of City in 10,000s')\n",
    "ax.set_ylabel('Profit in $10,000s')\n",
    "ax.plot(X_train, Y_train, marker='.', color='#0F00FF', markersize=10, linestyle='') "
   ]
  },
  {
   "cell_type": "code",
   "execution_count": 5,
   "metadata": {},
   "outputs": [
    {
     "data": {
      "text/plain": [
       "LinearRegression(copy_X=True, fit_intercept=True, n_jobs=None, normalize=False)"
      ]
     },
     "execution_count": 5,
     "metadata": {},
     "output_type": "execute_result"
    }
   ],
   "source": [
    "model = LinearRegression()\n",
    "\n",
    "model.fit(X_train, Y_train.flatten())"
   ]
  },
  {
   "cell_type": "code",
   "execution_count": 6,
   "metadata": {},
   "outputs": [
    {
     "data": {
      "text/plain": [
       "array([ 3.3937745,  2.6989517,  6.2671967,  4.4592733,  3.095158 ,\n",
       "        6.105302 ,  5.023816 ,  6.3381824,  3.8424745,  2.1345272,\n",
       "        2.9172769, 13.002348 ,  2.945075 ,  6.135723 ,  2.8337646,\n",
       "        2.5220246,  3.6983562,  2.2246013,  3.7749486,  4.5399218,\n",
       "        3.4880242, 20.287012 ,  2.6540937,  3.6514697,  2.7433324,\n",
       "       18.706242 , 11.408456 ,  9.17629  , 11.823631 , 22.593145 ,\n",
       "        2.3705096,  3.9655952,  7.1376343,  3.133335 ,  5.900338 ,\n",
       "        5.5690327,  5.7629004,  2.7927241, 11.418    ,  3.68404  ,\n",
       "        2.5548334,  4.3152742, 10.072258 ,  2.9924383,  5.43935  ,\n",
       "        4.5665264,  2.1531386,  3.0254855, 10.062714 ,  2.7155352,\n",
       "        5.0999327,  2.4364843,  4.9611826,  5.1749735,  3.659463 ,\n",
       "        3.6906013,  3.5895514,  2.8325715,  7.2116013,  7.382683 ,\n",
       "        6.6332197,  2.2832985, 21.490782 , 13.889965 , 18.722944 ,\n",
       "        4.7157755,  6.000553 ,  8.3161125,  2.6651893, 20.371717 ,\n",
       "        8.196809 ,  4.8545246,  3.2698183,  4.724962 ,  2.1014805,\n",
       "        3.9160852,  5.0980234,  2.1129336,  8.361448 ,  2.1978774,\n",
       "        2.9393477,  2.2941551,  3.6867838,  7.758607 ,  3.8779078,\n",
       "        6.265527 ,  7.056507 ,  3.2648077,  2.6902428,  2.140254 ,\n",
       "        2.9136977,  5.214941 ,  3.1081624,  2.4337401,  5.9985247,\n",
       "       12.083713 ,  2.5906243], dtype=float32)"
      ]
     },
     "execution_count": 6,
     "metadata": {},
     "output_type": "execute_result"
    }
   ],
   "source": [
    "Y_pred = model.predict(X_train)\n",
    "Y_pred"
   ]
  },
  {
   "cell_type": "code",
   "execution_count": 7,
   "metadata": {
    "scrolled": true
   },
   "outputs": [
    {
     "data": {
      "text/plain": [
       "array([[17.592  ],\n",
       "       [ 9.1302 ],\n",
       "       [13.662  ],\n",
       "       [11.854  ],\n",
       "       [ 6.8233 ],\n",
       "       [11.886  ],\n",
       "       [ 4.3483 ],\n",
       "       [12.     ],\n",
       "       [ 6.5987 ],\n",
       "       [ 3.8166 ],\n",
       "       [ 3.2522 ],\n",
       "       [15.505  ],\n",
       "       [ 3.1551 ],\n",
       "       [ 7.2258 ],\n",
       "       [ 0.71618],\n",
       "       [ 3.5129 ],\n",
       "       [ 5.3048 ],\n",
       "       [ 0.56077],\n",
       "       [ 3.6518 ],\n",
       "       [ 5.3893 ],\n",
       "       [ 3.1386 ],\n",
       "       [21.767  ],\n",
       "       [ 4.263  ],\n",
       "       [ 5.1875 ],\n",
       "       [ 3.0825 ],\n",
       "       [22.638  ],\n",
       "       [13.501  ],\n",
       "       [ 7.0467 ],\n",
       "       [14.692  ],\n",
       "       [24.147  ],\n",
       "       [-1.22   ],\n",
       "       [ 5.9966 ],\n",
       "       [12.134  ],\n",
       "       [ 1.8495 ],\n",
       "       [ 6.5426 ],\n",
       "       [ 4.5623 ],\n",
       "       [ 4.1164 ],\n",
       "       [ 3.3928 ],\n",
       "       [10.117  ],\n",
       "       [ 5.4974 ],\n",
       "       [ 0.55657],\n",
       "       [ 3.9115 ],\n",
       "       [ 5.3854 ],\n",
       "       [ 2.4406 ],\n",
       "       [ 6.7318 ],\n",
       "       [ 1.0463 ],\n",
       "       [ 5.1337 ],\n",
       "       [ 1.844  ],\n",
       "       [ 8.0043 ],\n",
       "       [ 1.0179 ],\n",
       "       [ 6.7504 ],\n",
       "       [ 1.8396 ],\n",
       "       [ 4.2885 ],\n",
       "       [ 4.9981 ],\n",
       "       [ 1.4233 ],\n",
       "       [-1.4211 ],\n",
       "       [ 2.4756 ],\n",
       "       [ 4.6042 ],\n",
       "       [ 3.9624 ],\n",
       "       [ 5.4141 ],\n",
       "       [ 5.1694 ],\n",
       "       [-0.74279],\n",
       "       [17.929  ],\n",
       "       [12.054  ],\n",
       "       [17.054  ],\n",
       "       [ 4.8852 ],\n",
       "       [ 5.7442 ],\n",
       "       [ 7.7754 ],\n",
       "       [ 1.0173 ],\n",
       "       [20.992  ],\n",
       "       [ 6.6799 ],\n",
       "       [ 4.0259 ],\n",
       "       [ 1.2784 ],\n",
       "       [ 3.3411 ],\n",
       "       [-2.6807 ],\n",
       "       [ 0.29678],\n",
       "       [ 3.8845 ],\n",
       "       [ 5.7014 ],\n",
       "       [ 6.7526 ],\n",
       "       [ 2.0576 ],\n",
       "       [ 0.47953],\n",
       "       [ 0.20421],\n",
       "       [ 0.67861],\n",
       "       [ 7.5435 ],\n",
       "       [ 5.3436 ],\n",
       "       [ 4.2415 ],\n",
       "       [ 6.7981 ],\n",
       "       [ 0.92695],\n",
       "       [ 0.152  ],\n",
       "       [ 2.8214 ],\n",
       "       [ 1.8451 ],\n",
       "       [ 4.2959 ],\n",
       "       [ 7.2029 ],\n",
       "       [ 1.9869 ],\n",
       "       [ 0.14454],\n",
       "       [ 9.0551 ],\n",
       "       [ 0.61705]], dtype=float32)"
      ]
     },
     "execution_count": 7,
     "metadata": {},
     "output_type": "execute_result"
    }
   ],
   "source": [
    "Y_train"
   ]
  },
  {
   "cell_type": "code",
   "execution_count": 8,
   "metadata": {},
   "outputs": [
    {
     "data": {
      "text/plain": [
       "8.953943"
      ]
     },
     "execution_count": 8,
     "metadata": {},
     "output_type": "execute_result"
    }
   ],
   "source": [
    "mean_squared_error(Y_train, Y_pred)"
   ]
  },
  {
   "cell_type": "code",
   "execution_count": 9,
   "metadata": {},
   "outputs": [
    {
     "data": {
      "text/plain": [
       "array([1.1930337], dtype=float32)"
      ]
     },
     "execution_count": 9,
     "metadata": {},
     "output_type": "execute_result"
    }
   ],
   "source": [
    "model.coef_"
   ]
  },
  {
   "cell_type": "code",
   "execution_count": 10,
   "metadata": {},
   "outputs": [
    {
     "data": {
      "text/plain": [
       "-3.8957806"
      ]
     },
     "execution_count": 10,
     "metadata": {},
     "output_type": "execute_result"
    }
   ],
   "source": [
    "model.intercept_"
   ]
  },
  {
   "cell_type": "code",
   "execution_count": 11,
   "metadata": {},
   "outputs": [
    {
     "data": {
      "text/plain": [
       "array([0.27983737])"
      ]
     },
     "execution_count": 11,
     "metadata": {},
     "output_type": "execute_result"
    }
   ],
   "source": [
    "model.predict([[3.5]])"
   ]
  },
  {
   "cell_type": "code",
   "execution_count": 12,
   "metadata": {},
   "outputs": [
    {
     "data": {
      "text/plain": [
       "array([4.4554553])"
      ]
     },
     "execution_count": 12,
     "metadata": {},
     "output_type": "execute_result"
    }
   ],
   "source": [
    "model.predict([[7.0]])"
   ]
  },
  {
   "cell_type": "code",
   "execution_count": 13,
   "metadata": {},
   "outputs": [
    {
     "data": {
      "text/plain": [
       "<matplotlib.legend.Legend at 0x7f98320b7d30>"
      ]
     },
     "execution_count": 13,
     "metadata": {},
     "output_type": "execute_result"
    },
    {
     "data": {
      "image/png": "[encoded data removed]",
      "text/plain": [
       "<Figure size 720x720 with 1 Axes>"
      ]
     },
     "metadata": {
      "needs_background": "light"
     },
     "output_type": "display_data"
    }
   ],
   "source": [
    "fig = plt.figure(figsize=(10, 10))\n",
    "ax = fig.add_subplot(1, 1, 1)\n",
    "ax.set_xlabel('Population of City in 10,000s')\n",
    "ax.set_ylabel('Profit in $10,000s')\n",
    "ax.plot(X_train, Y_train, marker='.', color='#0F00FF', markersize=10, linestyle='', label='Training data') \n",
    "ax.plot(X_train, Y_pred, marker='', color='#FF00AE', markersize=10, label='Linear regression')\n",
    "ax.legend()"
   ]
  }
 ],
 "metadata": {
  "kernelspec": {
   "display_name": "Python 3",
   "language": "python",
   "name": "python3"
  },
  "language_info": {
   "codemirror_mode": {
    "name": "ipython",
    "version": 3
   },
   "file_extension": ".py",
   "mimetype": "text/x-python",
   "name": "python",
   "nbconvert_exporter": "python",
   "pygments_lexer": "ipython3",
   "version": "3.6.9"
  }
 },
 "nbformat": 4,
 "nbformat_minor": 2
}
