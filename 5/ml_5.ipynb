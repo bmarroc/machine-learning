{
 "cells": [
  {
   "cell_type": "markdown",
   "metadata": {},
   "source": [
    "# Logistic Regression"
   ]
  },
  {
   "cell_type": "code",
   "execution_count": 1,
   "metadata": {},
   "outputs": [],
   "source": [
    "import numpy as np\n",
    "import pandas as pd\n",
    "import matplotlib.pyplot as plt\n",
    "from sklearn.linear_model import LogisticRegression\n",
    "from sklearn.metrics import log_loss \n",
    "from sklearn.metrics import accuracy_score "
   ]
  },
  {
   "cell_type": "code",
   "execution_count": 2,
   "metadata": {},
   "outputs": [
    {
     "data": {
      "text/html": [
       "<div>\n",
       "<style scoped>\n",
       "    .dataframe tbody tr th:only-of-type {\n",
       "        vertical-align: middle;\n",
       "    }\n",
       "\n",
       "    .dataframe tbody tr th {\n",
       "        vertical-align: top;\n",
       "    }\n",
       "\n",
       "    .dataframe thead th {\n",
       "        text-align: right;\n",
       "    }\n",
       "</style>\n",
       "<table border=\"1\" class=\"dataframe\">\n",
       "  <thead>\n",
       "    <tr style=\"text-align: right;\">\n",
       "      <th></th>\n",
       "      <th>exam1_score</th>\n",
       "      <th>exam2_score</th>\n",
       "      <th>admitted</th>\n",
       "    </tr>\n",
       "  </thead>\n",
       "  <tbody>\n",
       "    <tr>\n",
       "      <td>0</td>\n",
       "      <td>34.623661</td>\n",
       "      <td>78.024696</td>\n",
       "      <td>0.0</td>\n",
       "    </tr>\n",
       "    <tr>\n",
       "      <td>1</td>\n",
       "      <td>30.286711</td>\n",
       "      <td>43.894997</td>\n",
       "      <td>0.0</td>\n",
       "    </tr>\n",
       "    <tr>\n",
       "      <td>2</td>\n",
       "      <td>35.847408</td>\n",
       "      <td>72.902199</td>\n",
       "      <td>0.0</td>\n",
       "    </tr>\n",
       "    <tr>\n",
       "      <td>3</td>\n",
       "      <td>60.182598</td>\n",
       "      <td>86.308556</td>\n",
       "      <td>1.0</td>\n",
       "    </tr>\n",
       "    <tr>\n",
       "      <td>4</td>\n",
       "      <td>79.032738</td>\n",
       "      <td>75.344376</td>\n",
       "      <td>1.0</td>\n",
       "    </tr>\n",
       "    <tr>\n",
       "      <td>...</td>\n",
       "      <td>...</td>\n",
       "      <td>...</td>\n",
       "      <td>...</td>\n",
       "    </tr>\n",
       "    <tr>\n",
       "      <td>95</td>\n",
       "      <td>83.489166</td>\n",
       "      <td>48.380287</td>\n",
       "      <td>1.0</td>\n",
       "    </tr>\n",
       "    <tr>\n",
       "      <td>96</td>\n",
       "      <td>42.261700</td>\n",
       "      <td>87.103851</td>\n",
       "      <td>1.0</td>\n",
       "    </tr>\n",
       "    <tr>\n",
       "      <td>97</td>\n",
       "      <td>99.315010</td>\n",
       "      <td>68.775406</td>\n",
       "      <td>1.0</td>\n",
       "    </tr>\n",
       "    <tr>\n",
       "      <td>98</td>\n",
       "      <td>55.340019</td>\n",
       "      <td>64.931938</td>\n",
       "      <td>1.0</td>\n",
       "    </tr>\n",
       "    <tr>\n",
       "      <td>99</td>\n",
       "      <td>74.775894</td>\n",
       "      <td>89.529816</td>\n",
       "      <td>1.0</td>\n",
       "    </tr>\n",
       "  </tbody>\n",
       "</table>\n",
       "<p>100 rows × 3 columns</p>\n",
       "</div>"
      ],
      "text/plain": [
       "    exam1_score  exam2_score  admitted\n",
       "0     34.623661    78.024696       0.0\n",
       "1     30.286711    43.894997       0.0\n",
       "2     35.847408    72.902199       0.0\n",
       "3     60.182598    86.308556       1.0\n",
       "4     79.032738    75.344376       1.0\n",
       "..          ...          ...       ...\n",
       "95    83.489166    48.380287       1.0\n",
       "96    42.261700    87.103851       1.0\n",
       "97    99.315010    68.775406       1.0\n",
       "98    55.340019    64.931938       1.0\n",
       "99    74.775894    89.529816       1.0\n",
       "\n",
       "[100 rows x 3 columns]"
      ]
     },
     "execution_count": 2,
     "metadata": {},
     "output_type": "execute_result"
    }
   ],
   "source": [
    "data = pd.read_table('ex2data1.txt', sep=',', header=None, names=['exam1_score', 'exam2_score', 'admitted'], dtype=np.float32)\n",
    "data"
   ]
  },
  {
   "cell_type": "code",
   "execution_count": 3,
   "metadata": {},
   "outputs": [],
   "source": [
    "X_train = data.loc[:,['exam1_score','exam2_score']].values\n",
    "Y_train = data.loc[:,['admitted']].values"
   ]
  },
  {
   "cell_type": "code",
   "execution_count": 4,
   "metadata": {},
   "outputs": [
    {
     "data": {
      "text/plain": [
       "<matplotlib.legend.Legend at 0x7fb1064362e8>"
      ]
     },
     "execution_count": 4,
     "metadata": {},
     "output_type": "execute_result"
    },
    {
     "data": {
      "image/png": "[encoded data removed]",
      "text/plain": [
       "<Figure size 720x720 with 1 Axes>"
      ]
     },
     "metadata": {
      "needs_background": "light"
     },
     "output_type": "display_data"
    }
   ],
   "source": [
    "fig = plt.figure(figsize=(10, 10))\n",
    "ax = fig.add_subplot(1, 1, 1)\n",
    "ax.axis([np.min(X_train[:,0])-1., np.max(X_train[:,0])+1., np.min(X_train[:,1])-1., np.max(X_train[:,1])+1.])\n",
    "ax.set_xlabel('Exam 1 score')\n",
    "ax.set_ylabel('Exam 2 score')\n",
    "pos = np.where(Y_train[:,0] == 1)[0]\n",
    "neg = np.where(Y_train[:,0] == 0)[0]\n",
    "ax.plot(X_train[pos,0], X_train[pos,1], marker='.', color='#0F00FF', markersize=10, linestyle='', label='Admitted') \n",
    "ax.plot(X_train[neg,0], X_train[neg,1], marker='.', color='#FF00AE', markersize=10, linestyle='', label='Not Admitted')\n",
    "ax.legend()"
   ]
  },
  {
   "cell_type": "code",
   "execution_count": 5,
   "metadata": {},
   "outputs": [
    {
     "data": {
      "text/plain": [
       "LogisticRegression(C=1.0, class_weight=None, dual=False, fit_intercept=True,\n",
       "                   intercept_scaling=1, l1_ratio=None, max_iter=500,\n",
       "                   multi_class='auto', n_jobs=None, penalty='none',\n",
       "                   random_state=None, solver='lbfgs', tol=0.0001, verbose=0,\n",
       "                   warm_start=False)"
      ]
     },
     "execution_count": 5,
     "metadata": {},
     "output_type": "execute_result"
    }
   ],
   "source": [
    "model = LogisticRegression(penalty='none', max_iter=500, solver='lbfgs')\n",
    "\n",
    "model.fit(X_train, Y_train.flatten())"
   ]
  },
  {
   "cell_type": "code",
   "execution_count": 6,
   "metadata": {
    "scrolled": true
   },
   "outputs": [
    {
     "data": {
      "text/plain": [
       "array([[9.08967022e-01, 9.10329784e-02],\n",
       "       [9.99957742e-01, 4.22577447e-05],\n",
       "       [9.56091685e-01, 4.39083154e-02],\n",
       "       [9.57523473e-03, 9.90424765e-01],\n",
       "       [1.80122424e-03, 9.98198776e-01],\n",
       "       [9.89202601e-01, 1.07973992e-02],\n",
       "       [1.02185038e-03, 9.98978150e-01],\n",
       "       [5.76773127e-01, 4.23226873e-01],\n",
       "       [2.89975510e-04, 9.99710024e-01],\n",
       "       [2.64610946e-01, 7.35389054e-01],\n",
       "       [9.03247784e-02, 9.09675222e-01],\n",
       "       [9.71403403e-01, 2.85965969e-02],\n",
       "       [7.29845807e-04, 9.99270154e-01],\n",
       "       [1.46052764e-04, 9.99853947e-01],\n",
       "       [8.43964274e-01, 1.56035726e-01],\n",
       "       [1.90405817e-02, 9.80959418e-01],\n",
       "       [5.72283270e-01, 4.27716730e-01],\n",
       "       [8.51211350e-01, 1.48788650e-01],\n",
       "       [2.93452625e-04, 9.99706547e-01],\n",
       "       [4.25718925e-01, 5.74281075e-01],\n",
       "       [9.33165356e-01, 6.68346442e-02],\n",
       "       [1.37273433e-03, 9.98627266e-01],\n",
       "       [9.92582070e-01, 7.41792996e-03],\n",
       "       [9.99898847e-01, 1.01152815e-04],\n",
       "       [8.12166064e-03, 9.91878339e-01],\n",
       "       [1.44951085e-01, 8.55048915e-01],\n",
       "       [3.99700778e-01, 6.00299222e-01],\n",
       "       [1.34814215e-01, 8.65185785e-01],\n",
       "       [9.07611218e-01, 9.23887818e-02],\n",
       "       [9.83171322e-01, 1.68286776e-02],\n",
       "       [1.02869132e-01, 8.97130868e-01],\n",
       "       [1.89624610e-02, 9.81037539e-01],\n",
       "       [8.45089964e-01, 1.54910036e-01],\n",
       "       [6.08062452e-01, 3.91937548e-01],\n",
       "       [9.25871830e-01, 7.41281705e-02],\n",
       "       [9.66889542e-01, 3.31104577e-02],\n",
       "       [1.47732542e-01, 8.52267458e-01],\n",
       "       [1.24356162e-02, 9.87564384e-01],\n",
       "       [7.96012562e-01, 2.03987438e-01],\n",
       "       [9.50420714e-01, 4.95792857e-02],\n",
       "       [2.96993438e-02, 9.70300656e-01],\n",
       "       [9.93881848e-01, 6.11815235e-03],\n",
       "       [5.38504866e-04, 9.99461495e-01],\n",
       "       [4.97714362e-01, 5.02285638e-01],\n",
       "       [9.95511361e-01, 4.48863899e-03],\n",
       "       [8.62976777e-01, 1.37023223e-01],\n",
       "       [7.00812808e-03, 9.92991872e-01],\n",
       "       [3.81911942e-06, 9.99996181e-01],\n",
       "       [7.95075498e-04, 9.99204925e-01],\n",
       "       [9.23896580e-06, 9.99990761e-01],\n",
       "       [1.89319314e-03, 9.98106807e-01],\n",
       "       [4.99501996e-04, 9.99500498e-01],\n",
       "       [9.49833327e-02, 9.05016667e-01],\n",
       "       [9.97193906e-01, 2.80609355e-03],\n",
       "       [9.91477397e-01, 8.52260326e-03],\n",
       "       [9.47109512e-01, 5.28904880e-02],\n",
       "       [1.43366520e-04, 9.99856633e-01],\n",
       "       [3.06293671e-01, 6.93706329e-01],\n",
       "       [1.45032228e-02, 9.85496777e-01],\n",
       "       [4.27134454e-03, 9.95728655e-01],\n",
       "       [4.68345438e-04, 9.99531655e-01],\n",
       "       [9.99777628e-01, 2.22371542e-04],\n",
       "       [9.96494644e-01, 3.50535570e-03],\n",
       "       [9.99872936e-01, 1.27063570e-04],\n",
       "       [9.28343945e-01, 7.16560554e-02],\n",
       "       [9.59124109e-01, 4.08758912e-02],\n",
       "       [5.55738839e-02, 9.44426116e-01],\n",
       "       [9.89929584e-01, 1.00704162e-02],\n",
       "       [4.75516917e-05, 9.99952448e-01],\n",
       "       [2.90699144e-01, 7.09300856e-01],\n",
       "       [9.99937962e-01, 6.20378625e-05],\n",
       "       [2.26037172e-02, 9.77396283e-01],\n",
       "       [1.06639645e-04, 9.99893360e-01],\n",
       "       [1.15723368e-01, 8.84276632e-01],\n",
       "       [9.47591780e-02, 9.05240822e-01],\n",
       "       [4.50944464e-05, 9.99954906e-01],\n",
       "       [8.23051538e-02, 9.17694846e-01],\n",
       "       [3.73256937e-01, 6.26743063e-01],\n",
       "       [9.84160028e-01, 1.58399720e-02],\n",
       "       [4.00530024e-01, 5.99469976e-01],\n",
       "       [7.17495637e-04, 9.99282504e-01],\n",
       "       [2.65281247e-02, 9.73471875e-01],\n",
       "       [1.05467443e-01, 8.94532557e-01],\n",
       "       [7.96808336e-01, 2.03191664e-01],\n",
       "       [5.89511486e-05, 9.99941049e-01],\n",
       "       [2.01749911e-03, 9.97982501e-01],\n",
       "       [6.45441622e-01, 3.54558378e-01],\n",
       "       [1.79968084e-04, 9.99820032e-01],\n",
       "       [2.67884471e-05, 9.99973212e-01],\n",
       "       [8.93041545e-01, 1.06958455e-01],\n",
       "       [5.60456523e-05, 9.99943954e-01],\n",
       "       [1.47746812e-05, 9.99985225e-01],\n",
       "       [9.98575741e-01, 1.42425902e-03],\n",
       "       [6.78248336e-04, 9.99321752e-01],\n",
       "       [7.54291872e-02, 9.24570813e-01],\n",
       "       [1.41360071e-01, 8.58639929e-01],\n",
       "       [2.49118892e-01, 7.50881108e-01],\n",
       "       [1.03391847e-04, 9.99896608e-01],\n",
       "       [6.60725563e-01, 3.39274437e-01],\n",
       "       [2.49063170e-04, 9.99750937e-01]])"
      ]
     },
     "execution_count": 6,
     "metadata": {},
     "output_type": "execute_result"
    }
   ],
   "source": [
    "Y_pred = model.predict_proba(X_train)\n",
    "Y_pred"
   ]
  },
  {
   "cell_type": "code",
   "execution_count": 7,
   "metadata": {
    "scrolled": true
   },
   "outputs": [
    {
     "data": {
      "text/plain": [
       "0.20349770729398986"
      ]
     },
     "execution_count": 7,
     "metadata": {},
     "output_type": "execute_result"
    }
   ],
   "source": [
    "log_loss(Y_train, Y_pred)"
   ]
  },
  {
   "cell_type": "code",
   "execution_count": 8,
   "metadata": {},
   "outputs": [
    {
     "data": {
      "text/plain": [
       "array([0., 0., 0., 1., 1., 0., 1., 0., 1., 1., 1., 0., 1., 1., 0., 1., 0.,\n",
       "       0., 1., 1., 0., 1., 0., 0., 1., 1., 1., 1., 0., 0., 1., 1., 0., 0.,\n",
       "       0., 0., 1., 1., 0., 0., 1., 0., 1., 1., 0., 0., 1., 1., 1., 1., 1.,\n",
       "       1., 1., 0., 0., 0., 1., 1., 1., 1., 1., 0., 0., 0., 0., 0., 1., 0.,\n",
       "       1., 1., 0., 1., 1., 1., 1., 1., 1., 1., 0., 1., 1., 1., 1., 0., 1.,\n",
       "       1., 0., 1., 1., 0., 1., 1., 0., 1., 1., 1., 1., 1., 0., 1.],\n",
       "      dtype=float32)"
      ]
     },
     "execution_count": 8,
     "metadata": {},
     "output_type": "execute_result"
    }
   ],
   "source": [
    "Y_pred_label = model.predict(X_train)\n",
    "Y_pred_label"
   ]
  },
  {
   "cell_type": "code",
   "execution_count": 9,
   "metadata": {
    "scrolled": true
   },
   "outputs": [
    {
     "data": {
      "text/plain": [
       "array([[0.],\n",
       "       [0.],\n",
       "       [0.],\n",
       "       [1.],\n",
       "       [1.],\n",
       "       [0.],\n",
       "       [1.],\n",
       "       [1.],\n",
       "       [1.],\n",
       "       [1.],\n",
       "       [0.],\n",
       "       [0.],\n",
       "       [1.],\n",
       "       [1.],\n",
       "       [0.],\n",
       "       [1.],\n",
       "       [1.],\n",
       "       [0.],\n",
       "       [1.],\n",
       "       [1.],\n",
       "       [0.],\n",
       "       [1.],\n",
       "       [0.],\n",
       "       [0.],\n",
       "       [1.],\n",
       "       [1.],\n",
       "       [1.],\n",
       "       [0.],\n",
       "       [0.],\n",
       "       [0.],\n",
       "       [1.],\n",
       "       [1.],\n",
       "       [0.],\n",
       "       [1.],\n",
       "       [0.],\n",
       "       [0.],\n",
       "       [0.],\n",
       "       [1.],\n",
       "       [0.],\n",
       "       [0.],\n",
       "       [1.],\n",
       "       [0.],\n",
       "       [1.],\n",
       "       [0.],\n",
       "       [0.],\n",
       "       [0.],\n",
       "       [1.],\n",
       "       [1.],\n",
       "       [1.],\n",
       "       [1.],\n",
       "       [1.],\n",
       "       [1.],\n",
       "       [1.],\n",
       "       [0.],\n",
       "       [0.],\n",
       "       [0.],\n",
       "       [1.],\n",
       "       [0.],\n",
       "       [1.],\n",
       "       [1.],\n",
       "       [1.],\n",
       "       [0.],\n",
       "       [0.],\n",
       "       [0.],\n",
       "       [0.],\n",
       "       [0.],\n",
       "       [1.],\n",
       "       [0.],\n",
       "       [1.],\n",
       "       [1.],\n",
       "       [0.],\n",
       "       [1.],\n",
       "       [1.],\n",
       "       [1.],\n",
       "       [1.],\n",
       "       [1.],\n",
       "       [1.],\n",
       "       [1.],\n",
       "       [0.],\n",
       "       [0.],\n",
       "       [1.],\n",
       "       [1.],\n",
       "       [1.],\n",
       "       [1.],\n",
       "       [1.],\n",
       "       [1.],\n",
       "       [0.],\n",
       "       [1.],\n",
       "       [1.],\n",
       "       [0.],\n",
       "       [1.],\n",
       "       [1.],\n",
       "       [0.],\n",
       "       [1.],\n",
       "       [1.],\n",
       "       [1.],\n",
       "       [1.],\n",
       "       [1.],\n",
       "       [1.],\n",
       "       [1.]], dtype=float32)"
      ]
     },
     "execution_count": 9,
     "metadata": {},
     "output_type": "execute_result"
    }
   ],
   "source": [
    "Y_train"
   ]
  },
  {
   "cell_type": "code",
   "execution_count": 10,
   "metadata": {},
   "outputs": [
    {
     "data": {
      "text/plain": [
       "0.89"
      ]
     },
     "execution_count": 10,
     "metadata": {},
     "output_type": "execute_result"
    }
   ],
   "source": [
    "accuracy_score(Y_train, Y_pred_label)"
   ]
  },
  {
   "cell_type": "code",
   "execution_count": 11,
   "metadata": {},
   "outputs": [
    {
     "data": {
      "text/plain": [
       "array([[0.20623221, 0.20147188]])"
      ]
     },
     "execution_count": 11,
     "metadata": {},
     "output_type": "execute_result"
    }
   ],
   "source": [
    "model.coef_"
   ]
  },
  {
   "cell_type": "code",
   "execution_count": 12,
   "metadata": {},
   "outputs": [
    {
     "data": {
      "text/plain": [
       "array([-25.16138357])"
      ]
     },
     "execution_count": 12,
     "metadata": {},
     "output_type": "execute_result"
    }
   ],
   "source": [
    "model.intercept_"
   ]
  },
  {
   "cell_type": "code",
   "execution_count": 13,
   "metadata": {},
   "outputs": [
    {
     "data": {
      "text/plain": [
       "array([[0.22370994, 0.77629006]])"
      ]
     },
     "execution_count": 13,
     "metadata": {},
     "output_type": "execute_result"
    }
   ],
   "source": [
    "model.predict_proba([[45.0, 85.0]])"
   ]
  },
  {
   "cell_type": "code",
   "execution_count": 14,
   "metadata": {},
   "outputs": [
    {
     "data": {
      "text/plain": [
       "<matplotlib.legend.Legend at 0x7fb10687b5f8>"
      ]
     },
     "execution_count": 14,
     "metadata": {},
     "output_type": "execute_result"
    },
    {
     "data": {
      "image/png": "[encoded data removed]",
      "text/plain": [
       "<Figure size 720x720 with 1 Axes>"
      ]
     },
     "metadata": {
      "needs_background": "light"
     },
     "output_type": "display_data"
    }
   ],
   "source": [
    "fig = plt.figure(figsize=(10, 10))\n",
    "ax = fig.add_subplot(1, 1, 1)\n",
    "ax.axis([np.min(X_train[:,0])-1., np.max(X_train[:,0])+1., np.min(X_train[:,1])-1., np.max(X_train[:,1])+1.])\n",
    "ax.set_xlabel('Exam 1 score')\n",
    "ax.set_ylabel('Exam 2 score')\n",
    "u = np.linspace(np.min(X_train[:,0])-1., np.max(X_train[:,0])+1., 100)\n",
    "v = np.linspace(np.min(X_train[:,1])-1., np.max(X_train[:,1])+1., 100)\n",
    "z = []\n",
    "for i in range(100):\n",
    "    for j in range(100):\n",
    "        z.append([u[i], v[j]])\n",
    "z = np.array(z)\n",
    "w = model.predict(z)\n",
    "model_pos = np.where(w == 1)[0]\n",
    "model_neg = np.where(w == 0)[0]\n",
    "ax.plot(z[model_pos,0], z[model_pos,1], marker='+', color='#C7C3FF', markersize=10, linestyle='')\n",
    "ax.plot(z[model_neg,0], z[model_neg,1], marker='+', color='#FFECFB', markersize=10, linestyle='')\n",
    "pos = np.where(Y_train[:,0] == 1)[0]\n",
    "neg = np.where(Y_train[:,0] == 0)[0]\n",
    "ax.plot(X_train[pos,0], X_train[pos,1], marker='.', color='#0F00FF', markersize=10, linestyle='', label='Admitted') \n",
    "ax.plot(X_train[neg,0], X_train[neg,1], marker='.', color='#FF00AE', markersize=10, linestyle='', label='Not Admitted')\n",
    "ax.legend()"
   ]
  }
 ],
 "metadata": {
  "kernelspec": {
   "display_name": "Python 3",
   "language": "python",
   "name": "python3"
  },
  "language_info": {
   "codemirror_mode": {
    "name": "ipython",
    "version": 3
   },
   "file_extension": ".py",
   "mimetype": "text/x-python",
   "name": "python",
   "nbconvert_exporter": "python",
   "pygments_lexer": "ipython3",
   "version": "3.6.9"
  }
 },
 "nbformat": 4,
 "nbformat_minor": 2
}
